{
 "cells": [
  {
   "cell_type": "code",
   "execution_count": 1,
   "metadata": {
    "collapsed": false
   },
   "outputs": [
    {
     "name": "stderr",
     "output_type": "stream",
     "text": [
      "/home/egor/anaconda2/lib/python2.7/site-packages/h5py/__init__.py:36: FutureWarning: Conversion of the second argument of issubdtype from `float` to `np.floating` is deprecated. In future, it will be treated as `np.float64 == np.dtype(float).type`.\n  from ._conv import register_converters as _register_converters\n"
     ]
    }
   ],
   "source": [
    "from utils import Model\n",
    "import random\n",
    "import numpy as np\n",
    "import os\n",
    "# Configuration (alphabetically)\n",
    "import tensorflow as tf\n",
    "tf.app.flags.DEFINE_integer('batch_size', 16,\n",
    "                            \"Number of samples per batch.\")\n",
    "\n",
    "tf.app.flags.DEFINE_string('checkpoint_dir', 'checkpoint',\n",
    "                           \"Output folder where checkpoints are dumped.\")\n",
    "\n",
    "tf.app.flags.DEFINE_integer('checkpoint_period', 10000,\n",
    "                            \"Number of batches in between checkpoints\")\n",
    "\n",
    "tf.app.flags.DEFINE_string('dataset', 'dataset',\n",
    "                           \"Path to the dataset directory.\")\n",
    "\n",
    "tf.app.flags.DEFINE_float('epsilon', 1e-8,\n",
    "                          \"Fuzz term to avoid numerical instability\")\n",
    "\n",
    "tf.app.flags.DEFINE_string('run', 'demo',\n",
    "                            \"Which operation to run. [demo|train]\")\n",
    "\n",
    "tf.app.flags.DEFINE_float('gene_l1_factor', .90,\n",
    "                          \"Multiplier for generator L1 loss term\")\n",
    "\n",
    "tf.app.flags.DEFINE_float('learning_beta1', 0.5,\n",
    "                          \"Beta1 parameter used for AdamOptimizer\")\n",
    "\n",
    "tf.app.flags.DEFINE_float('learning_rate_start', 0.00020,\n",
    "                          \"Starting learning rate used for AdamOptimizer\")\n",
    "\n",
    "tf.app.flags.DEFINE_integer('learning_rate_half_life', 5000,\n",
    "                            \"Number of batches until learning rate is halved\")\n",
    "\n",
    "tf.app.flags.DEFINE_bool('log_device_placement', False,\n",
    "                         \"Log the device where variables are placed.\")\n",
    "\n",
    "tf.app.flags.DEFINE_integer('sample_size', 64,\n",
    "                            \"Image sample size in pixels. Range [64,128]\")\n",
    "\n",
    "tf.app.flags.DEFINE_integer('summary_period', 200,\n",
    "                            \"Number of batches between summary data dumps\")\n",
    "\n",
    "\n",
    "tf.app.flags.DEFINE_integer('random_seed', 0,\n",
    "                            \"Seed used to initialize rng.\")\n",
    "\n",
    "tf.app.flags.DEFINE_integer('test_vectors', 16,\n",
    "                            \"\"\"Number of features to use for testing\"\"\")\n",
    "                            \n",
    "tf.app.flags.DEFINE_string('train_dir', 'train',\n",
    "                           \"Output folder where training logs are dumped.\")\n",
    "\n",
    "tf.app.flags.DEFINE_integer('train_time', 20,\n",
    "                            \"Time in minutes to train the model\")\n",
    "\n",
    "FLAGS = tf.app.flags.FLAGS"
   ]
  },
  {
   "cell_type": "code",
   "execution_count": 11,
   "metadata": {},
   "outputs": [],
   "source": [
    "import tensorflow as tf\n",
    "\n",
    "\n",
    "def setup_tensorflow():\n",
    "    # Create session\n",
    "    config = tf.ConfigProto(log_device_placement=FLAGS.log_device_placement)\n",
    "    sess = tf.Session(config=config)\n",
    "\n",
    "    # Initialize rng with a deterministic seed\n",
    "    with sess.graph.as_default():\n",
    "        tf.set_random_seed(FLAGS.random_seed)\n",
    "\n",
    "    random.seed(FLAGS.random_seed)\n",
    "    np.random.seed(FLAGS.random_seed)\n",
    "\n",
    "    summary_writer = tf.summary.FileWriter(FLAGS.train_dir, sess.graph)\n",
    "\n",
    "    return sess, summary_writer\n",
    "\n",
    "\n",
    "def setup_inputs(sess, filenames, image_size=None, capacity_factor=3):\n",
    "    if image_size is None:\n",
    "        image_size = FLAGS.sample_size\n",
    "\n",
    "    # Read each JPEG file\n",
    "    reader = tf.WholeFileReader()\n",
    "    filename_queue = tf.train.string_input_producer(filenames)\n",
    "    key, value = reader.read(filename_queue)\n",
    "    channels = 3\n",
    "    image = tf.image.decode_jpeg(value, channels=channels, name=\"dataset_image\")\n",
    "    image.set_shape([64, 64, channels])\n",
    "\n",
    "    # Crop and other random augmentations\n",
    "    image = tf.image.random_flip_left_right(image)\n",
    "    image = tf.image.random_saturation(image, .95, 1.05)\n",
    "    image = tf.image.random_brightness(image, .05)\n",
    "    image = tf.image.random_contrast(image, .95, 1.05)\n",
    "    image = tf.reshape(image, [1, 64, 64, 3])\n",
    "    image = tf.cast(image, tf.float32) / 255.0\n",
    "\n",
    "    K = 2  # upscaling factor\n",
    "    downsampled = tf.image.resize_area(image, [image_size / K, image_size / K])\n",
    "\n",
    "    feature = tf.reshape(downsampled, [image_size / K, image_size / K, 3])\n",
    "    label = tf.reshape(image, [image_size, image_size, 3])\n",
    "\n",
    "    # Using asynchronous queues\n",
    "    features, labels = tf.train.batch([feature, label],\n",
    "                                      batch_size=FLAGS.batch_size * 8,\n",
    "                                      num_threads=4,\n",
    "                                      capacity=capacity_factor * FLAGS.batch_size,\n",
    "                                      name='labels_and_features')\n",
    "\n",
    "    tf.train.start_queue_runners(sess=sess)\n",
    "\n",
    "    return features, labels"
   ]
  },
  {
   "cell_type": "code",
   "execution_count": 18,
   "metadata": {},
   "outputs": [
    {
     "name": "stdout",
     "output_type": "stream",
     "text": [
      "7207\n"
     ]
    },
    {
     "data": {
      "image/png": "[encoded data removed]",
      "text/plain": [
       "<matplotlib.figure.Figure at 0x7f75a97e8fd0>"
      ]
     },
     "metadata": {},
     "output_type": "display_data"
    }
   ],
   "source": [
    "import matplotlib.pyplot as plt\n",
    "import os\n",
    "n = np.random.randint(0, 10000)\n",
    "imgs_p = os.listdir('dataset')\n",
    "import numpy as np\n",
    "from PIL import Image\n",
    "plt.imshow(np.array(Image.open('dataset/'+imgs_p[n])))\n",
    "print n"
   ]
  },
  {
   "cell_type": "code",
   "execution_count": 24,
   "metadata": {},
   "outputs": [
    {
     "data": {
      "image/png": "[encoded data removed]",
      "text/plain": [
       "<PIL.Image.Image image mode=RGB size=32x32 at 0x7F75A9D01E50>"
      ]
     },
     "metadata": {},
     "output_type": "display_data"
    }
   ],
   "source": [
    "Image.open('dataset/'+imgs_p[n]).resize((32, 32))"
   ]
  },
  {
   "cell_type": "code",
   "execution_count": 4,
   "metadata": {
    "collapsed": false
   },
   "outputs": [],
   "source": [
    "tf.reset_default_graph()\n",
    "sess, summary_writer = setup_tensorflow()"
   ]
  },
  {
   "cell_type": "code",
   "execution_count": 5,
   "metadata": {},
   "outputs": [],
   "source": [
    "def generator(features, params=None, return_params=False):\n",
    "    # Upside-down all-convolutional resnet\n",
    "    \n",
    "    mapsize = 3\n",
    "\n",
    "    # See Arxiv 1603.05027\n",
    "    scope = 'g'\n",
    "    model = Model(scope, features, params, '_0000_0000')\n",
    "    \n",
    "    for j in range(2):\n",
    "        model.add_residual_block(256, mapsize=mapsize)\n",
    "\n",
    "    # Spatial upscale (see http://distill.pub/2016/deconv-checkerboard/)\n",
    "    # and transposed convolution\n",
    "    # don't apply second upscaling (we need 2x factor)\n",
    "    model.add_pixel_shuffler(2)#add_upscale()\n",
    "    model.add_batch_norm()\n",
    "    model.add_relu()\n",
    "    gene_vars = model.params\n",
    "    return model.get_output(), gene_vars\n",
    "    #model.add_conv2d_transpose(256, mapsize=mapsize, stride=1, stddev_factor=1.)\n",
    "       \n",
    "    # Finalization a la \"all convolutional net\"\n",
    "    \n",
    "    model.add_conv2d(96, mapsize=mapsize, stride=1, stddev_factor=2.)\n",
    "    # Worse: model.add_batch_norm()\n",
    "    #model.add_relu()\n",
    "\n",
    "    model.add_conv2d(96, mapsize=1, stride=1, stddev_factor=2.)\n",
    "    # Worse: model.add_batch_norm()\n",
    "    model.add_relu()\n",
    "\n",
    "    # Last layer is sigmoid with no batch normalization\n",
    "    model.add_conv2d(3, mapsize=1, stride=1, stddev_factor=1.)\n",
    "    model.add_sigmoid() # TODO: add tanh\n",
    "    \n",
    "    gene_vars = model.params\n",
    "    #model.summary()\n",
    "    if return_params:\n",
    "        return model.get_output(), gene_vars\n",
    "    return model.get_output()"
   ]
  },
  {
   "cell_type": "code",
   "execution_count": 6,
   "metadata": {},
   "outputs": [],
   "source": [
    "def discriminator(disc_input, params=None, return_params=False):\n",
    "    # Fully convolutional model\n",
    "    mapsize = 3\n",
    "    layers = [64, 128, 256, 512]\n",
    "\n",
    "    model = Model('d', 2 * disc_input - 1, params, mask='_0000_0000')  # normalize between -1 and 1\n",
    "\n",
    "    for layer in range(len(layers)):\n",
    "        nunits = layers[layer]\n",
    "        stddev_factor = 2.0\n",
    "\n",
    "        model.add_conv2d(nunits, mapsize=mapsize, stride=2, stddev_factor=stddev_factor)\n",
    "        model.add_batch_norm()\n",
    "        model.add_relu()\n",
    "\n",
    "    # Finalization a la \"all convolutional net\"\n",
    "    model.add_conv2d(nunits, mapsize=mapsize, stride=1, stddev_factor=stddev_factor)\n",
    "    model.add_batch_norm()\n",
    "    model.add_relu()\n",
    "\n",
    "    model.add_conv2d(nunits, mapsize=1, stride=1, stddev_factor=stddev_factor)\n",
    "    model.add_batch_norm()\n",
    "    model.add_relu()\n",
    "\n",
    "    # Linearly map to real/fake and return average score\n",
    "    # (softmax will be applied later)\n",
    "    model.add_conv2d(1, mapsize=1, stride=1, stddev_factor=stddev_factor)\n",
    "    model.add_mean()\n",
    "\n",
    "    disc_vars = model.params\n",
    "    #model.summary()\n",
    "    if return_params:\n",
    "        return model.get_output(), disc_vars\n",
    "    return model.get_output()"
   ]
  },
  {
   "cell_type": "code",
   "execution_count": 46,
   "metadata": {},
   "outputs": [],
   "source": [
    "filenames = map(lambda x: os.path.join(FLAGS.dataset, x), os.listdir(FLAGS.dataset))\n",
    "features, labels = setup_inputs(sess, filenames)\n",
    "features, labels = tf.reshape(features, [FLAGS.batch_size, 8, 32, 32, 3]), tf.reshape(labels, [FLAGS.batch_size, 8, 64, 64, 3])\n",
    "features = tf.transpose(features, [0, 2, 3, 4, 1])\n",
    "labels = tf.transpose(labels, [0, 2, 3, 4, 1])"
   ]
  },
  {
   "cell_type": "code",
   "execution_count": 47,
   "metadata": {},
   "outputs": [],
   "source": [
    "f, l =  sess.run([features, labels])"
   ]
  },
  {
   "cell_type": "code",
   "execution_count": 48,
   "metadata": {},
   "outputs": [
    {
     "data": {
      "text/plain": [
       "(16, 32, 32, 3, 8)"
      ]
     },
     "execution_count": 48,
     "metadata": {},
     "output_type": "execute_result"
    }
   ],
   "source": [
    "f.shape"
   ]
  },
  {
   "cell_type": "code",
   "execution_count": 53,
   "metadata": {},
   "outputs": [
    {
     "data": {
      "text/plain": [
       "<matplotlib.image.AxesImage at 0x7f685ef72cd0>"
      ]
     },
     "execution_count": 53,
     "metadata": {},
     "output_type": "execute_result"
    },
    {
     "data": {
      "image/png": "[encoded data removed]",
      "text/plain": [
       "<matplotlib.figure.Figure at 0x7f685f081550>"
      ]
     },
     "metadata": {},
     "output_type": "display_data"
    }
   ],
   "source": [
    "plt.imshow(f[12, :, :, :, 4])"
   ]
  },
  {
   "cell_type": "code",
   "execution_count": 9,
   "metadata": {},
   "outputs": [],
   "source": [
    "l = sess.run(labels)"
   ]
  },
  {
   "cell_type": "code",
   "execution_count": 10,
   "metadata": {},
   "outputs": [
    {
     "data": {
      "text/plain": [
       "<matplotlib.image.AxesImage at 0x7f685fc8a9d0>"
      ]
     },
     "execution_count": 10,
     "metadata": {},
     "output_type": "execute_result"
    },
    {
     "data": {
      "image/png": "[encoded data removed]",
      "text/plain": [
       "<matplotlib.figure.Figure at 0x7f685fcdc610>"
      ]
     },
     "metadata": {},
     "output_type": "display_data"
    }
   ],
   "source": [
    "import matplotlib.pyplot as plt\n",
    "%matplotlib inline\n",
    "plt.imshow(f[0])"
   ]
  },
  {
   "cell_type": "code",
   "execution_count": 8,
   "metadata": {
    "collapsed": true
   },
   "outputs": [
    {
     "name": "stderr",
     "output_type": "stream",
     "text": [
      "Exception in thread QueueRunnerThread-labels_and_features/fifo_queue-labels_and_features/fifo_queue_enqueue:\nTraceback (most recent call last):\n  File \"/home/egor/anaconda2/lib/python2.7/threading.py\", line 801, in __bootstrap_inner\n    self.run()\n  File \"/home/egor/anaconda2/lib/python2.7/threading.py\", line 754, in run\n    self.__target(*self.__args, **self.__kwargs)\n  File \"/home/egor/anaconda2/lib/python2.7/site-packages/tensorflow/python/training/queue_runner_impl.py\", line 238, in _run\n    enqueue_callable()\n  File \"/home/egor/anaconda2/lib/python2.7/site-packages/tensorflow/python/client/session.py\", line 1231, in _single_operation_run\n    target_list_as_strings, status, None)\n  File \"/home/egor/anaconda2/lib/python2.7/site-packages/tensorflow/python/framework/errors_impl.py\", line 473, in __exit__\n    c_api.TF_GetCode(self.status.status))\nNotFoundError: n04399382_279.JPEG; No such file or directory\n\t [[Node: ReaderReadV2 = ReaderReadV2[_device=\"/job:localhost/replica:0/task:0/device:CPU:0\"](WholeFileReaderV2, input_producer)]]\nException in thread QueueRunnerThread-labels_and_features/fifo_queue-labels_and_features/fifo_queue_enqueue:\nTraceback (most recent call last):\n  File \"/home/egor/anaconda2/lib/python2.7/threading.py\", line 801, in __bootstrap_inner\n    self.run()\n  File \"/home/egor/anaconda2/lib/python2.7/threading.py\", line 754, in run\n    self.__target(*self.__args, **self.__kwargs)\n  File \"/home/egor/anaconda2/lib/python2.7/site-packages/tensorflow/python/training/queue_runner_impl.py\", line 238, in _run\n    enqueue_callable()\n  File \"/home/egor/anaconda2/lib/python2.7/site-packages/tensorflow/python/client/session.py\", line 1231, in _single_operation_run\n    target_list_as_strings, status, None)\n  File \"/home/egor/anaconda2/lib/python2.7/site-packages/tensorflow/python/framework/errors_impl.py\", line 473, in __exit__\n    c_api.TF_GetCode(self.status.status))\nNotFoundError: n04399382_279.JPEG; No such file or directory\n\t [[Node: ReaderReadV2 = ReaderReadV2[_device=\"/job:localhost/replica:0/task:0/device:CPU:0\"](WholeFileReaderV2, input_producer)]]\n\n\nException in thread QueueRunnerThread-labels_and_features/fifo_queue-labels_and_features/fifo_queue_enqueue:\nTraceback (most recent call last):\n  File \"/home/egor/anaconda2/lib/python2.7/threading.py\", line 801, in __bootstrap_inner\n    self.run()\n  File \"/home/egor/anaconda2/lib/python2.7/threading.py\", line 754, in run\n    self.__target(*self.__args, **self.__kwargs)\n  File \"/home/egor/anaconda2/lib/python2.7/site-packages/tensorflow/python/training/queue_runner_impl.py\", line 238, in _run\n    enqueue_callable()\n  File \"/home/egor/anaconda2/lib/python2.7/site-packages/tensorflow/python/client/session.py\", line 1231, in _single_operation_run\n    target_list_as_strings, status, None)\n  File \"/home/egor/anaconda2/lib/python2.7/site-packages/tensorflow/python/framework/errors_impl.py\", line 473, in __exit__\n    c_api.TF_GetCode(self.status.status))\nNotFoundError: n04399382_279.JPEG; No such file or directory\n\t [[Node: ReaderReadV2 = ReaderReadV2[_device=\"/job:localhost/replica:0/task:0/device:CPU:0\"](WholeFileReaderV2, input_producer)]]\n\nException in thread QueueRunnerThread-labels_and_features/fifo_queue-labels_and_features/fifo_queue_enqueue:\nTraceback (most recent call last):\n  File \"/home/egor/anaconda2/lib/python2.7/threading.py\", line 801, in __bootstrap_inner\n    self.run()\n  File \"/home/egor/anaconda2/lib/python2.7/threading.py\", line 754, in run\n    self.__target(*self.__args, **self.__kwargs)\n  File \"/home/egor/anaconda2/lib/python2.7/site-packages/tensorflow/python/training/queue_runner_impl.py\", line 238, in _run\n    enqueue_callable()\n  File \"/home/egor/anaconda2/lib/python2.7/site-packages/tensorflow/python/client/session.py\", line 1231, in _single_operation_run\n    target_list_as_strings, status, None)\n  File \"/home/egor/anaconda2/lib/python2.7/site-packages/tensorflow/python/framework/errors_impl.py\", line 473, in __exit__\n    c_api.TF_GetCode(self.status.status))\nNotFoundError: n04399382_279.JPEG; No such file or directory\n\t [[Node: ReaderReadV2 = ReaderReadV2[_device=\"/job:localhost/replica:0/task:0/device:CPU:0\"](WholeFileReaderV2, input_producer)]]\n\n"
     ]
    },
    {
     "ename": "InvalidArgumentError",
     "evalue": "Cannot assign a device for operation 'MatMul': Operation was explicitly assigned to /device:GPU:0 but available devices are [ /job:localhost/replica:0/task:0/device:CPU:0 ]. Make sure the device specification refers to a valid device.\n\t [[Node: MatMul = MatMul[T=DT_FLOAT, transpose_a=false, transpose_b=false, _device=\"/device:GPU:0\"](Const, Const_1)]]\n\nCaused by op u'MatMul', defined at:\n  File \"/home/egor/anaconda2/lib/python2.7/runpy.py\", line 174, in _run_module_as_main\n    \"__main__\", fname, loader, pkg_name)\n  File \"/home/egor/anaconda2/lib/python2.7/runpy.py\", line 72, in _run_code\n    exec code in run_globals\n  File \"/home/egor/anaconda2/lib/python2.7/site-packages/ipykernel_launcher.py\", line 16, in <module>\n    app.launch_new_instance()\n  File \"/home/egor/anaconda2/lib/python2.7/site-packages/traitlets/config/application.py\", line 658, in launch_instance\n    app.start()\n  File \"/home/egor/anaconda2/lib/python2.7/site-packages/ipykernel/kernelapp.py\", line 486, in start\n    self.io_loop.start()\n  File \"/home/egor/anaconda2/lib/python2.7/site-packages/zmq/eventloop/ioloop.py\", line 177, in start\n    super(ZMQIOLoop, self).start()\n  File \"/home/egor/anaconda2/lib/python2.7/site-packages/tornado/ioloop.py\", line 888, in start\n    handler_func(fd_obj, events)\n  File \"/home/egor/anaconda2/lib/python2.7/site-packages/tornado/stack_context.py\", line 277, in null_wrapper\n    return fn(*args, **kwargs)\n  File \"/home/egor/anaconda2/lib/python2.7/site-packages/zmq/eventloop/zmqstream.py\", line 440, in _handle_events\n    self._handle_recv()\n  File \"/home/egor/anaconda2/lib/python2.7/site-packages/zmq/eventloop/zmqstream.py\", line 472, in _handle_recv\n    self._run_callback(callback, msg)\n  File \"/home/egor/anaconda2/lib/python2.7/site-packages/zmq/eventloop/zmqstream.py\", line 414, in _run_callback\n    callback(*args, **kwargs)\n  File \"/home/egor/anaconda2/lib/python2.7/site-packages/tornado/stack_context.py\", line 277, in null_wrapper\n    return fn(*args, **kwargs)\n  File \"/home/egor/anaconda2/lib/python2.7/site-packages/ipykernel/kernelbase.py\", line 283, in dispatcher\n    return self.dispatch_shell(stream, msg)\n  File \"/home/egor/anaconda2/lib/python2.7/site-packages/ipykernel/kernelbase.py\", line 233, in dispatch_shell\n    handler(stream, idents, msg)\n  File \"/home/egor/anaconda2/lib/python2.7/site-packages/ipykernel/kernelbase.py\", line 399, in execute_request\n    user_expressions, allow_stdin)\n  File \"/home/egor/anaconda2/lib/python2.7/site-packages/ipykernel/ipkernel.py\", line 208, in do_execute\n    res = shell.run_cell(code, store_history=store_history, silent=silent)\n  File \"/home/egor/anaconda2/lib/python2.7/site-packages/ipykernel/zmqshell.py\", line 537, in run_cell\n    return super(ZMQInteractiveShell, self).run_cell(*args, **kwargs)\n  File \"/home/egor/anaconda2/lib/python2.7/site-packages/IPython/core/interactiveshell.py\", line 2718, in run_cell\n    interactivity=interactivity, compiler=compiler, result=result)\n  File \"/home/egor/anaconda2/lib/python2.7/site-packages/IPython/core/interactiveshell.py\", line 2822, in run_ast_nodes\n    if self.run_code(code, result):\n  File \"/home/egor/anaconda2/lib/python2.7/site-packages/IPython/core/interactiveshell.py\", line 2882, in run_code\n    exec(code_obj, self.user_global_ns, self.user_ns)\n  File \"<ipython-input-8-d3bde120e163>\", line 8, in <module>\n    c = tf.matmul(a, b)\n  File \"/home/egor/anaconda2/lib/python2.7/site-packages/tensorflow/python/ops/math_ops.py\", line 1891, in matmul\n    a, b, transpose_a=transpose_a, transpose_b=transpose_b, name=name)\n  File \"/home/egor/anaconda2/lib/python2.7/site-packages/tensorflow/python/ops/gen_math_ops.py\", line 2437, in _mat_mul\n    name=name)\n  File \"/home/egor/anaconda2/lib/python2.7/site-packages/tensorflow/python/framework/op_def_library.py\", line 787, in _apply_op_helper\n    op_def=op_def)\n  File \"/home/egor/anaconda2/lib/python2.7/site-packages/tensorflow/python/framework/ops.py\", line 2956, in create_op\n    op_def=op_def)\n  File \"/home/egor/anaconda2/lib/python2.7/site-packages/tensorflow/python/framework/ops.py\", line 1470, in __init__\n    self._traceback = self._graph._extract_stack()  # pylint: disable=protected-access\n\nInvalidArgumentError (see above for traceback): Cannot assign a device for operation 'MatMul': Operation was explicitly assigned to /device:GPU:0 but available devices are [ /job:localhost/replica:0/task:0/device:CPU:0 ]. Make sure the device specification refers to a valid device.\n\t [[Node: MatMul = MatMul[T=DT_FLOAT, transpose_a=false, transpose_b=false, _device=\"/device:GPU:0\"](Const, Const_1)]]\n",
     "traceback": [
      "\u001b[0;31m---------------------------------------------------------------------------\u001b[0m",
      "\u001b[0;31mInvalidArgumentError\u001b[0m                      Traceback (most recent call last)",
      "\u001b[0;32m<ipython-input-8-d3bde120e163>\u001b[0m in \u001b[0;36m<module>\u001b[0;34m()\u001b[0m\n\u001b[1;32m      7\u001b[0m     \u001b[0mb\u001b[0m \u001b[0;34m=\u001b[0m \u001b[0mtf\u001b[0m\u001b[0;34m.\u001b[0m\u001b[0mconstant\u001b[0m\u001b[0;34m(\u001b[0m\u001b[0;36m0.5\u001b[0m\u001b[0;34m,\u001b[0m \u001b[0mtf\u001b[0m\u001b[0;34m.\u001b[0m\u001b[0mfloat32\u001b[0m\u001b[0;34m,\u001b[0m \u001b[0;34m[\u001b[0m\u001b[0;36m100\u001b[0m\u001b[0;34m,\u001b[0m \u001b[0;36m10\u001b[0m\u001b[0;34m]\u001b[0m\u001b[0;34m)\u001b[0m\u001b[0;34m\u001b[0m\u001b[0m\n\u001b[1;32m      8\u001b[0m     \u001b[0mc\u001b[0m \u001b[0;34m=\u001b[0m \u001b[0mtf\u001b[0m\u001b[0;34m.\u001b[0m\u001b[0mmatmul\u001b[0m\u001b[0;34m(\u001b[0m\u001b[0ma\u001b[0m\u001b[0;34m,\u001b[0m \u001b[0mb\u001b[0m\u001b[0;34m)\u001b[0m\u001b[0;34m\u001b[0m\u001b[0m\n\u001b[0;32m----> 9\u001b[0;31m \u001b[0msess\u001b[0m\u001b[0;34m.\u001b[0m\u001b[0mrun\u001b[0m\u001b[0;34m(\u001b[0m\u001b[0mc\u001b[0m\u001b[0;34m)\u001b[0m\u001b[0;34m\u001b[0m\u001b[0m\n\u001b[0m",
      "\u001b[0;32m/home/egor/anaconda2/lib/python2.7/site-packages/tensorflow/python/client/session.pyc\u001b[0m in \u001b[0;36mrun\u001b[0;34m(self, fetches, feed_dict, options, run_metadata)\u001b[0m\n\u001b[1;32m    887\u001b[0m     \u001b[0;32mtry\u001b[0m\u001b[0;34m:\u001b[0m\u001b[0;34m\u001b[0m\u001b[0m\n\u001b[1;32m    888\u001b[0m       result = self._run(None, fetches, feed_dict, options_ptr,\n\u001b[0;32m--> 889\u001b[0;31m                          run_metadata_ptr)\n\u001b[0m\u001b[1;32m    890\u001b[0m       \u001b[0;32mif\u001b[0m \u001b[0mrun_metadata\u001b[0m\u001b[0;34m:\u001b[0m\u001b[0;34m\u001b[0m\u001b[0m\n\u001b[1;32m    891\u001b[0m         \u001b[0mproto_data\u001b[0m \u001b[0;34m=\u001b[0m \u001b[0mtf_session\u001b[0m\u001b[0;34m.\u001b[0m\u001b[0mTF_GetBuffer\u001b[0m\u001b[0;34m(\u001b[0m\u001b[0mrun_metadata_ptr\u001b[0m\u001b[0;34m)\u001b[0m\u001b[0;34m\u001b[0m\u001b[0m\n",
      "\u001b[0;32m/home/egor/anaconda2/lib/python2.7/site-packages/tensorflow/python/client/session.pyc\u001b[0m in \u001b[0;36m_run\u001b[0;34m(self, handle, fetches, feed_dict, options, run_metadata)\u001b[0m\n\u001b[1;32m   1118\u001b[0m     \u001b[0;32mif\u001b[0m \u001b[0mfinal_fetches\u001b[0m \u001b[0;32mor\u001b[0m \u001b[0mfinal_targets\u001b[0m \u001b[0;32mor\u001b[0m \u001b[0;34m(\u001b[0m\u001b[0mhandle\u001b[0m \u001b[0;32mand\u001b[0m \u001b[0mfeed_dict_tensor\u001b[0m\u001b[0;34m)\u001b[0m\u001b[0;34m:\u001b[0m\u001b[0;34m\u001b[0m\u001b[0m\n\u001b[1;32m   1119\u001b[0m       results = self._do_run(handle, final_targets, final_fetches,\n\u001b[0;32m-> 1120\u001b[0;31m                              feed_dict_tensor, options, run_metadata)\n\u001b[0m\u001b[1;32m   1121\u001b[0m     \u001b[0;32melse\u001b[0m\u001b[0;34m:\u001b[0m\u001b[0;34m\u001b[0m\u001b[0m\n\u001b[1;32m   1122\u001b[0m       \u001b[0mresults\u001b[0m \u001b[0;34m=\u001b[0m \u001b[0;34m[\u001b[0m\u001b[0;34m]\u001b[0m\u001b[0;34m\u001b[0m\u001b[0m\n",
      "\u001b[0;32m/home/egor/anaconda2/lib/python2.7/site-packages/tensorflow/python/client/session.pyc\u001b[0m in \u001b[0;36m_do_run\u001b[0;34m(self, handle, target_list, fetch_list, feed_dict, options, run_metadata)\u001b[0m\n\u001b[1;32m   1315\u001b[0m     \u001b[0;32mif\u001b[0m \u001b[0mhandle\u001b[0m \u001b[0;32mis\u001b[0m \u001b[0mNone\u001b[0m\u001b[0;34m:\u001b[0m\u001b[0;34m\u001b[0m\u001b[0m\n\u001b[1;32m   1316\u001b[0m       return self._do_call(_run_fn, self._session, feeds, fetches, targets,\n\u001b[0;32m-> 1317\u001b[0;31m                            options, run_metadata)\n\u001b[0m\u001b[1;32m   1318\u001b[0m     \u001b[0;32melse\u001b[0m\u001b[0;34m:\u001b[0m\u001b[0;34m\u001b[0m\u001b[0m\n\u001b[1;32m   1319\u001b[0m       \u001b[0;32mreturn\u001b[0m \u001b[0mself\u001b[0m\u001b[0;34m.\u001b[0m\u001b[0m_do_call\u001b[0m\u001b[0;34m(\u001b[0m\u001b[0m_prun_fn\u001b[0m\u001b[0;34m,\u001b[0m \u001b[0mself\u001b[0m\u001b[0;34m.\u001b[0m\u001b[0m_session\u001b[0m\u001b[0;34m,\u001b[0m \u001b[0mhandle\u001b[0m\u001b[0;34m,\u001b[0m \u001b[0mfeeds\u001b[0m\u001b[0;34m,\u001b[0m \u001b[0mfetches\u001b[0m\u001b[0;34m)\u001b[0m\u001b[0;34m\u001b[0m\u001b[0m\n",
      "\u001b[0;32m/home/egor/anaconda2/lib/python2.7/site-packages/tensorflow/python/client/session.pyc\u001b[0m in \u001b[0;36m_do_call\u001b[0;34m(self, fn, *args)\u001b[0m\n\u001b[1;32m   1334\u001b[0m         \u001b[0;32mexcept\u001b[0m \u001b[0mKeyError\u001b[0m\u001b[0;34m:\u001b[0m\u001b[0;34m\u001b[0m\u001b[0m\n\u001b[1;32m   1335\u001b[0m           \u001b[0;32mpass\u001b[0m\u001b[0;34m\u001b[0m\u001b[0m\n\u001b[0;32m-> 1336\u001b[0;31m       \u001b[0;32mraise\u001b[0m \u001b[0mtype\u001b[0m\u001b[0;34m(\u001b[0m\u001b[0me\u001b[0m\u001b[0;34m)\u001b[0m\u001b[0;34m(\u001b[0m\u001b[0mnode_def\u001b[0m\u001b[0;34m,\u001b[0m \u001b[0mop\u001b[0m\u001b[0;34m,\u001b[0m \u001b[0mmessage\u001b[0m\u001b[0;34m)\u001b[0m\u001b[0;34m\u001b[0m\u001b[0m\n\u001b[0m\u001b[1;32m   1337\u001b[0m \u001b[0;34m\u001b[0m\u001b[0m\n\u001b[1;32m   1338\u001b[0m   \u001b[0;32mdef\u001b[0m \u001b[0m_extend_graph\u001b[0m\u001b[0;34m(\u001b[0m\u001b[0mself\u001b[0m\u001b[0;34m)\u001b[0m\u001b[0;34m:\u001b[0m\u001b[0;34m\u001b[0m\u001b[0m\n",
      "\u001b[0;31mInvalidArgumentError\u001b[0m: Cannot assign a device for operation 'MatMul': Operation was explicitly assigned to /device:GPU:0 but available devices are [ /job:localhost/replica:0/task:0/device:CPU:0 ]. Make sure the device specification refers to a valid device.\n\t [[Node: MatMul = MatMul[T=DT_FLOAT, transpose_a=false, transpose_b=false, _device=\"/device:GPU:0\"](Const, Const_1)]]\n\nCaused by op u'MatMul', defined at:\n  File \"/home/egor/anaconda2/lib/python2.7/runpy.py\", line 174, in _run_module_as_main\n    \"__main__\", fname, loader, pkg_name)\n  File \"/home/egor/anaconda2/lib/python2.7/runpy.py\", line 72, in _run_code\n    exec code in run_globals\n  File \"/home/egor/anaconda2/lib/python2.7/site-packages/ipykernel_launcher.py\", line 16, in <module>\n    app.launch_new_instance()\n  File \"/home/egor/anaconda2/lib/python2.7/site-packages/traitlets/config/application.py\", line 658, in launch_instance\n    app.start()\n  File \"/home/egor/anaconda2/lib/python2.7/site-packages/ipykernel/kernelapp.py\", line 486, in start\n    self.io_loop.start()\n  File \"/home/egor/anaconda2/lib/python2.7/site-packages/zmq/eventloop/ioloop.py\", line 177, in start\n    super(ZMQIOLoop, self).start()\n  File \"/home/egor/anaconda2/lib/python2.7/site-packages/tornado/ioloop.py\", line 888, in start\n    handler_func(fd_obj, events)\n  File \"/home/egor/anaconda2/lib/python2.7/site-packages/tornado/stack_context.py\", line 277, in null_wrapper\n    return fn(*args, **kwargs)\n  File \"/home/egor/anaconda2/lib/python2.7/site-packages/zmq/eventloop/zmqstream.py\", line 440, in _handle_events\n    self._handle_recv()\n  File \"/home/egor/anaconda2/lib/python2.7/site-packages/zmq/eventloop/zmqstream.py\", line 472, in _handle_recv\n    self._run_callback(callback, msg)\n  File \"/home/egor/anaconda2/lib/python2.7/site-packages/zmq/eventloop/zmqstream.py\", line 414, in _run_callback\n    callback(*args, **kwargs)\n  File \"/home/egor/anaconda2/lib/python2.7/site-packages/tornado/stack_context.py\", line 277, in null_wrapper\n    return fn(*args, **kwargs)\n  File \"/home/egor/anaconda2/lib/python2.7/site-packages/ipykernel/kernelbase.py\", line 283, in dispatcher\n    return self.dispatch_shell(stream, msg)\n  File \"/home/egor/anaconda2/lib/python2.7/site-packages/ipykernel/kernelbase.py\", line 233, in dispatch_shell\n    handler(stream, idents, msg)\n  File \"/home/egor/anaconda2/lib/python2.7/site-packages/ipykernel/kernelbase.py\", line 399, in execute_request\n    user_expressions, allow_stdin)\n  File \"/home/egor/anaconda2/lib/python2.7/site-packages/ipykernel/ipkernel.py\", line 208, in do_execute\n    res = shell.run_cell(code, store_history=store_history, silent=silent)\n  File \"/home/egor/anaconda2/lib/python2.7/site-packages/ipykernel/zmqshell.py\", line 537, in run_cell\n    return super(ZMQInteractiveShell, self).run_cell(*args, **kwargs)\n  File \"/home/egor/anaconda2/lib/python2.7/site-packages/IPython/core/interactiveshell.py\", line 2718, in run_cell\n    interactivity=interactivity, compiler=compiler, result=result)\n  File \"/home/egor/anaconda2/lib/python2.7/site-packages/IPython/core/interactiveshell.py\", line 2822, in run_ast_nodes\n    if self.run_code(code, result):\n  File \"/home/egor/anaconda2/lib/python2.7/site-packages/IPython/core/interactiveshell.py\", line 2882, in run_code\n    exec(code_obj, self.user_global_ns, self.user_ns)\n  File \"<ipython-input-8-d3bde120e163>\", line 8, in <module>\n    c = tf.matmul(a, b)\n  File \"/home/egor/anaconda2/lib/python2.7/site-packages/tensorflow/python/ops/math_ops.py\", line 1891, in matmul\n    a, b, transpose_a=transpose_a, transpose_b=transpose_b, name=name)\n  File \"/home/egor/anaconda2/lib/python2.7/site-packages/tensorflow/python/ops/gen_math_ops.py\", line 2437, in _mat_mul\n    name=name)\n  File \"/home/egor/anaconda2/lib/python2.7/site-packages/tensorflow/python/framework/op_def_library.py\", line 787, in _apply_op_helper\n    op_def=op_def)\n  File \"/home/egor/anaconda2/lib/python2.7/site-packages/tensorflow/python/framework/ops.py\", line 2956, in create_op\n    op_def=op_def)\n  File \"/home/egor/anaconda2/lib/python2.7/site-packages/tensorflow/python/framework/ops.py\", line 1470, in __init__\n    self._traceback = self._graph._extract_stack()  # pylint: disable=protected-access\n\nInvalidArgumentError (see above for traceback): Cannot assign a device for operation 'MatMul': Operation was explicitly assigned to /device:GPU:0 but available devices are [ /job:localhost/replica:0/task:0/device:CPU:0 ]. Make sure the device specification refers to a valid device.\n\t [[Node: MatMul = MatMul[T=DT_FLOAT, transpose_a=false, transpose_b=false, _device=\"/device:GPU:0\"](Const, Const_1)]]\n"
     ],
     "output_type": "error"
    }
   ],
   "source": [
    "# check whether gpu is alive\n",
    "import tensorflow as tf\n",
    "tf.reset_default_graph()\n",
    "sess = tf.InteractiveSession()\n",
    "with tf.device('gpu:0'):\n",
    "    a = tf.constant(1, tf.float32, [100, 100])\n",
    "    b = tf.constant(0.5, tf.float32, [100, 10])\n",
    "    c = tf.matmul(a, b)\n",
    "sess.run(c)"
   ]
  },
  {
   "cell_type": "code",
   "execution_count": 7,
   "metadata": {
    "collapsed": false
   },
   "outputs": [],
   "source": [
    "gen_out, pars = generator(tf.constant(0.0, shape=features.shape, dtype=tf.float32), return_params=True)"
   ]
  },
  {
   "cell_type": "code",
   "execution_count": 8,
   "metadata": {
    "collapsed": true
   },
   "outputs": [],
   "source": [
    "sess.run(tf.global_variables_initializer())\n",
    "a = sess.run(gen_out)"
   ]
  },
  {
   "cell_type": "code",
   "execution_count": 9,
   "metadata": {},
   "outputs": [
    {
     "data": {
      "text/plain": [
       "(16, 64, 64, 64)"
      ]
     },
     "execution_count": 9,
     "metadata": {},
     "output_type": "execute_result"
    }
   ],
   "source": [
    "a.shape"
   ]
  },
  {
   "cell_type": "code",
   "execution_count": 11,
   "metadata": {
    "collapsed": true
   },
   "outputs": [],
   "source": [
    "%%time\n",
    "from arch import BSRGAN\n",
    "tf.reset_default_graph()\n",
    "bsrgan = BSRGAN(labels, features, 100000, J=2, J_d=2, M=2, batch_size=FLAGS.batch_size)"
   ]
  },
  {
   "cell_type": "code",
   "execution_count": 9,
   "metadata": {},
   "outputs": [
    {
     "data": {
      "text/plain": [
       "[<tf.Variable 'g_h0_0000_0000/weight:0' shape=(1, 1, 3, 256) dtype=float32_ref>,\n <tf.Variable 'g_h0_0000_0000/bias:0' shape=(256,) dtype=float32_ref>,\n <tf.Variable 'g_h1_0000_0000/batch_normalization/beta:0' shape=(256,) dtype=float32_ref>,\n <tf.Variable 'g_h1_0000_0000/weight:0' shape=(3, 3, 256, 256) dtype=float32_ref>,\n <tf.Variable 'g_h1_0000_0000/bias:0' shape=(256,) dtype=float32_ref>,\n <tf.Variable 'g_h2_0000_0000/batch_normalization/beta:0' shape=(256,) dtype=float32_ref>,\n <tf.Variable 'g_h2_0000_0000/weight:0' shape=(3, 3, 256, 256) dtype=float32_ref>,\n <tf.Variable 'g_h2_0000_0000/bias:0' shape=(256,) dtype=float32_ref>,\n <tf.Variable 'g_h3_0000_0000/batch_normalization/beta:0' shape=(256,) dtype=float32_ref>,\n <tf.Variable 'g_h3_0000_0000/weight:0' shape=(3, 3, 256, 256) dtype=float32_ref>,\n <tf.Variable 'g_h3_0000_0000/bias:0' shape=(256,) dtype=float32_ref>,\n <tf.Variable 'g_h4_0000_0000/batch_normalization/beta:0' shape=(256,) dtype=float32_ref>,\n <tf.Variable 'g_h4_0000_0000/weight:0' shape=(3, 3, 256, 256) dtype=float32_ref>,\n <tf.Variable 'g_h4_0000_0000/bias:0' shape=(256,) dtype=float32_ref>,\n <tf.Variable 'g_h5_0000_0000/batch_normalization/beta:0' shape=(256,) dtype=float32_ref>,\n <tf.Variable 'g_h5_0000_0000/weight:0' shape=(3, 3, 256, 256) dtype=float32_ref>,\n <tf.Variable 'g_h5_0000_0000/bias:0' shape=(256,) dtype=float32_ref>,\n <tf.Variable 'g_h6_0000_0000/weight:0' shape=(3, 3, 256, 96) dtype=float32_ref>,\n <tf.Variable 'g_h6_0000_0000/bias:0' shape=(96,) dtype=float32_ref>,\n <tf.Variable 'g_h7_0000_0000/weight:0' shape=(1, 1, 96, 96) dtype=float32_ref>,\n <tf.Variable 'g_h7_0000_0000/bias:0' shape=(96,) dtype=float32_ref>,\n <tf.Variable 'g_h8_0000_0000/weight:0' shape=(1, 1, 96, 3) dtype=float32_ref>,\n <tf.Variable 'g_h8_0000_0000/bias:0' shape=(3,) dtype=float32_ref>,\n <tf.Variable 'g_h0_0000_0001/weight:0' shape=(1, 1, 3, 256) dtype=float32_ref>,\n <tf.Variable 'g_h0_0000_0001/bias:0' shape=(256,) dtype=float32_ref>,\n <tf.Variable 'g_h1_0000_0001/batch_normalization/beta:0' shape=(256,) dtype=float32_ref>,\n <tf.Variable 'g_h1_0000_0001/weight:0' shape=(3, 3, 256, 256) dtype=float32_ref>,\n <tf.Variable 'g_h1_0000_0001/bias:0' shape=(256,) dtype=float32_ref>,\n <tf.Variable 'g_h2_0000_0001/batch_normalization/beta:0' shape=(256,) dtype=float32_ref>,\n <tf.Variable 'g_h2_0000_0001/weight:0' shape=(3, 3, 256, 256) dtype=float32_ref>,\n <tf.Variable 'g_h2_0000_0001/bias:0' shape=(256,) dtype=float32_ref>,\n <tf.Variable 'g_h3_0000_0001/batch_normalization/beta:0' shape=(256,) dtype=float32_ref>,\n <tf.Variable 'g_h3_0000_0001/weight:0' shape=(3, 3, 256, 256) dtype=float32_ref>,\n <tf.Variable 'g_h3_0000_0001/bias:0' shape=(256,) dtype=float32_ref>,\n <tf.Variable 'g_h4_0000_0001/batch_normalization/beta:0' shape=(256,) dtype=float32_ref>,\n <tf.Variable 'g_h4_0000_0001/weight:0' shape=(3, 3, 256, 256) dtype=float32_ref>,\n <tf.Variable 'g_h4_0000_0001/bias:0' shape=(256,) dtype=float32_ref>,\n <tf.Variable 'g_h5_0000_0001/batch_normalization/beta:0' shape=(256,) dtype=float32_ref>,\n <tf.Variable 'g_h5_0000_0001/weight:0' shape=(3, 3, 256, 256) dtype=float32_ref>,\n <tf.Variable 'g_h5_0000_0001/bias:0' shape=(256,) dtype=float32_ref>,\n <tf.Variable 'g_h6_0000_0001/weight:0' shape=(3, 3, 256, 96) dtype=float32_ref>,\n <tf.Variable 'g_h6_0000_0001/bias:0' shape=(96,) dtype=float32_ref>,\n <tf.Variable 'g_h7_0000_0001/weight:0' shape=(1, 1, 96, 96) dtype=float32_ref>,\n <tf.Variable 'g_h7_0000_0001/bias:0' shape=(96,) dtype=float32_ref>,\n <tf.Variable 'g_h8_0000_0001/weight:0' shape=(1, 1, 96, 3) dtype=float32_ref>,\n <tf.Variable 'g_h8_0000_0001/bias:0' shape=(3,) dtype=float32_ref>,\n <tf.Variable 'g_h0_0001_0000/weight:0' shape=(1, 1, 3, 256) dtype=float32_ref>,\n <tf.Variable 'g_h0_0001_0000/bias:0' shape=(256,) dtype=float32_ref>,\n <tf.Variable 'g_h1_0001_0000/batch_normalization/beta:0' shape=(256,) dtype=float32_ref>,\n <tf.Variable 'g_h1_0001_0000/weight:0' shape=(3, 3, 256, 256) dtype=float32_ref>,\n <tf.Variable 'g_h1_0001_0000/bias:0' shape=(256,) dtype=float32_ref>,\n <tf.Variable 'g_h2_0001_0000/batch_normalization/beta:0' shape=(256,) dtype=float32_ref>,\n <tf.Variable 'g_h2_0001_0000/weight:0' shape=(3, 3, 256, 256) dtype=float32_ref>,\n <tf.Variable 'g_h2_0001_0000/bias:0' shape=(256,) dtype=float32_ref>,\n <tf.Variable 'g_h3_0001_0000/batch_normalization/beta:0' shape=(256,) dtype=float32_ref>,\n <tf.Variable 'g_h3_0001_0000/weight:0' shape=(3, 3, 256, 256) dtype=float32_ref>,\n <tf.Variable 'g_h3_0001_0000/bias:0' shape=(256,) dtype=float32_ref>,\n <tf.Variable 'g_h4_0001_0000/batch_normalization/beta:0' shape=(256,) dtype=float32_ref>,\n <tf.Variable 'g_h4_0001_0000/weight:0' shape=(3, 3, 256, 256) dtype=float32_ref>,\n <tf.Variable 'g_h4_0001_0000/bias:0' shape=(256,) dtype=float32_ref>,\n <tf.Variable 'g_h5_0001_0000/batch_normalization/beta:0' shape=(256,) dtype=float32_ref>,\n <tf.Variable 'g_h5_0001_0000/weight:0' shape=(3, 3, 256, 256) dtype=float32_ref>,\n <tf.Variable 'g_h5_0001_0000/bias:0' shape=(256,) dtype=float32_ref>,\n <tf.Variable 'g_h6_0001_0000/weight:0' shape=(3, 3, 256, 96) dtype=float32_ref>,\n <tf.Variable 'g_h6_0001_0000/bias:0' shape=(96,) dtype=float32_ref>,\n <tf.Variable 'g_h7_0001_0000/weight:0' shape=(1, 1, 96, 96) dtype=float32_ref>,\n <tf.Variable 'g_h7_0001_0000/bias:0' shape=(96,) dtype=float32_ref>,\n <tf.Variable 'g_h8_0001_0000/weight:0' shape=(1, 1, 96, 3) dtype=float32_ref>,\n <tf.Variable 'g_h8_0001_0000/bias:0' shape=(3,) dtype=float32_ref>,\n <tf.Variable 'g_h0_0001_0001/weight:0' shape=(1, 1, 3, 256) dtype=float32_ref>,\n <tf.Variable 'g_h0_0001_0001/bias:0' shape=(256,) dtype=float32_ref>,\n <tf.Variable 'g_h1_0001_0001/batch_normalization/beta:0' shape=(256,) dtype=float32_ref>,\n <tf.Variable 'g_h1_0001_0001/weight:0' shape=(3, 3, 256, 256) dtype=float32_ref>,\n <tf.Variable 'g_h1_0001_0001/bias:0' shape=(256,) dtype=float32_ref>,\n <tf.Variable 'g_h2_0001_0001/batch_normalization/beta:0' shape=(256,) dtype=float32_ref>,\n <tf.Variable 'g_h2_0001_0001/weight:0' shape=(3, 3, 256, 256) dtype=float32_ref>,\n <tf.Variable 'g_h2_0001_0001/bias:0' shape=(256,) dtype=float32_ref>,\n <tf.Variable 'g_h3_0001_0001/batch_normalization/beta:0' shape=(256,) dtype=float32_ref>,\n <tf.Variable 'g_h3_0001_0001/weight:0' shape=(3, 3, 256, 256) dtype=float32_ref>,\n <tf.Variable 'g_h3_0001_0001/bias:0' shape=(256,) dtype=float32_ref>,\n <tf.Variable 'g_h4_0001_0001/batch_normalization/beta:0' shape=(256,) dtype=float32_ref>,\n <tf.Variable 'g_h4_0001_0001/weight:0' shape=(3, 3, 256, 256) dtype=float32_ref>,\n <tf.Variable 'g_h4_0001_0001/bias:0' shape=(256,) dtype=float32_ref>,\n <tf.Variable 'g_h5_0001_0001/batch_normalization/beta:0' shape=(256,) dtype=float32_ref>,\n <tf.Variable 'g_h5_0001_0001/weight:0' shape=(3, 3, 256, 256) dtype=float32_ref>,\n <tf.Variable 'g_h5_0001_0001/bias:0' shape=(256,) dtype=float32_ref>,\n <tf.Variable 'g_h6_0001_0001/weight:0' shape=(3, 3, 256, 96) dtype=float32_ref>,\n <tf.Variable 'g_h6_0001_0001/bias:0' shape=(96,) dtype=float32_ref>,\n <tf.Variable 'g_h7_0001_0001/weight:0' shape=(1, 1, 96, 96) dtype=float32_ref>,\n <tf.Variable 'g_h7_0001_0001/bias:0' shape=(96,) dtype=float32_ref>,\n <tf.Variable 'g_h8_0001_0001/weight:0' shape=(1, 1, 96, 3) dtype=float32_ref>,\n <tf.Variable 'g_h8_0001_0001/bias:0' shape=(3,) dtype=float32_ref>,\n <tf.Variable 'd_h0_0000_0000/weight:0' shape=(3, 3, 3, 64) dtype=float32_ref>,\n <tf.Variable 'd_h0_0000_0000/bias:0' shape=(64,) dtype=float32_ref>,\n <tf.Variable 'd_h1_0000_0000/batch_normalization/beta:0' shape=(64,) dtype=float32_ref>,\n <tf.Variable 'd_h1_0000_0000/weight:0' shape=(3, 3, 64, 128) dtype=float32_ref>,\n <tf.Variable 'd_h1_0000_0000/bias:0' shape=(128,) dtype=float32_ref>,\n <tf.Variable 'd_h2_0000_0000/batch_normalization/beta:0' shape=(128,) dtype=float32_ref>,\n <tf.Variable 'd_h2_0000_0000/weight:0' shape=(3, 3, 128, 256) dtype=float32_ref>,\n <tf.Variable 'd_h2_0000_0000/bias:0' shape=(256,) dtype=float32_ref>,\n <tf.Variable 'd_h3_0000_0000/batch_normalization/beta:0' shape=(256,) dtype=float32_ref>,\n <tf.Variable 'd_h3_0000_0000/weight:0' shape=(3, 3, 256, 512) dtype=float32_ref>,\n <tf.Variable 'd_h3_0000_0000/bias:0' shape=(512,) dtype=float32_ref>,\n <tf.Variable 'd_h4_0000_0000/batch_normalization/beta:0' shape=(512,) dtype=float32_ref>,\n <tf.Variable 'd_h4_0000_0000/weight:0' shape=(3, 3, 512, 512) dtype=float32_ref>,\n <tf.Variable 'd_h4_0000_0000/bias:0' shape=(512,) dtype=float32_ref>,\n <tf.Variable 'd_h5_0000_0000/batch_normalization/beta:0' shape=(512,) dtype=float32_ref>,\n <tf.Variable 'd_h5_0000_0000/weight:0' shape=(1, 1, 512, 512) dtype=float32_ref>,\n <tf.Variable 'd_h5_0000_0000/bias:0' shape=(512,) dtype=float32_ref>,\n <tf.Variable 'd_h6_0000_0000/batch_normalization/beta:0' shape=(512,) dtype=float32_ref>,\n <tf.Variable 'd_h6_0000_0000/weight:0' shape=(1, 1, 512, 1) dtype=float32_ref>,\n <tf.Variable 'd_h6_0000_0000/bias:0' shape=(1,) dtype=float32_ref>,\n <tf.Variable 'd_h7_lin_0000_0000/weight:0' shape=(16, 100) dtype=float32_ref>,\n <tf.Variable 'd_h7_lin_0000_0000/bias:0' shape=(100,) dtype=float32_ref>,\n <tf.Variable 'd_h8_lin_0000_0000/weight:0' shape=(100, 2) dtype=float32_ref>,\n <tf.Variable 'd_h8_lin_0000_0000/bias:0' shape=(2,) dtype=float32_ref>,\n <tf.Variable 'd_h0_0000_0001/weight:0' shape=(3, 3, 3, 64) dtype=float32_ref>,\n <tf.Variable 'd_h0_0000_0001/bias:0' shape=(64,) dtype=float32_ref>,\n <tf.Variable 'd_h1_0000_0001/batch_normalization/beta:0' shape=(64,) dtype=float32_ref>,\n <tf.Variable 'd_h1_0000_0001/weight:0' shape=(3, 3, 64, 128) dtype=float32_ref>,\n <tf.Variable 'd_h1_0000_0001/bias:0' shape=(128,) dtype=float32_ref>,\n <tf.Variable 'd_h2_0000_0001/batch_normalization/beta:0' shape=(128,) dtype=float32_ref>,\n <tf.Variable 'd_h2_0000_0001/weight:0' shape=(3, 3, 128, 256) dtype=float32_ref>,\n <tf.Variable 'd_h2_0000_0001/bias:0' shape=(256,) dtype=float32_ref>,\n <tf.Variable 'd_h3_0000_0001/batch_normalization/beta:0' shape=(256,) dtype=float32_ref>,\n <tf.Variable 'd_h3_0000_0001/weight:0' shape=(3, 3, 256, 512) dtype=float32_ref>,\n <tf.Variable 'd_h3_0000_0001/bias:0' shape=(512,) dtype=float32_ref>,\n <tf.Variable 'd_h4_0000_0001/batch_normalization/beta:0' shape=(512,) dtype=float32_ref>,\n <tf.Variable 'd_h4_0000_0001/weight:0' shape=(3, 3, 512, 512) dtype=float32_ref>,\n <tf.Variable 'd_h4_0000_0001/bias:0' shape=(512,) dtype=float32_ref>,\n <tf.Variable 'd_h5_0000_0001/batch_normalization/beta:0' shape=(512,) dtype=float32_ref>,\n <tf.Variable 'd_h5_0000_0001/weight:0' shape=(1, 1, 512, 512) dtype=float32_ref>,\n <tf.Variable 'd_h5_0000_0001/bias:0' shape=(512,) dtype=float32_ref>,\n <tf.Variable 'd_h6_0000_0001/batch_normalization/beta:0' shape=(512,) dtype=float32_ref>,\n <tf.Variable 'd_h6_0000_0001/weight:0' shape=(1, 1, 512, 1) dtype=float32_ref>,\n <tf.Variable 'd_h6_0000_0001/bias:0' shape=(1,) dtype=float32_ref>,\n <tf.Variable 'd_h7_lin_0000_0001/weight:0' shape=(16, 100) dtype=float32_ref>,\n <tf.Variable 'd_h7_lin_0000_0001/bias:0' shape=(100,) dtype=float32_ref>,\n <tf.Variable 'd_h8_lin_0000_0001/weight:0' shape=(100, 2) dtype=float32_ref>,\n <tf.Variable 'd_h8_lin_0000_0001/bias:0' shape=(2,) dtype=float32_ref>,\n <tf.Variable 'd_h0_0001_0000/weight:0' shape=(3, 3, 3, 64) dtype=float32_ref>,\n <tf.Variable 'd_h0_0001_0000/bias:0' shape=(64,) dtype=float32_ref>,\n <tf.Variable 'd_h1_0001_0000/batch_normalization/beta:0' shape=(64,) dtype=float32_ref>,\n <tf.Variable 'd_h1_0001_0000/weight:0' shape=(3, 3, 64, 128) dtype=float32_ref>,\n <tf.Variable 'd_h1_0001_0000/bias:0' shape=(128,) dtype=float32_ref>,\n <tf.Variable 'd_h2_0001_0000/batch_normalization/beta:0' shape=(128,) dtype=float32_ref>,\n <tf.Variable 'd_h2_0001_0000/weight:0' shape=(3, 3, 128, 256) dtype=float32_ref>,\n <tf.Variable 'd_h2_0001_0000/bias:0' shape=(256,) dtype=float32_ref>,\n <tf.Variable 'd_h3_0001_0000/batch_normalization/beta:0' shape=(256,) dtype=float32_ref>,\n <tf.Variable 'd_h3_0001_0000/weight:0' shape=(3, 3, 256, 512) dtype=float32_ref>,\n <tf.Variable 'd_h3_0001_0000/bias:0' shape=(512,) dtype=float32_ref>,\n <tf.Variable 'd_h4_0001_0000/batch_normalization/beta:0' shape=(512,) dtype=float32_ref>,\n <tf.Variable 'd_h4_0001_0000/weight:0' shape=(3, 3, 512, 512) dtype=float32_ref>,\n <tf.Variable 'd_h4_0001_0000/bias:0' shape=(512,) dtype=float32_ref>,\n <tf.Variable 'd_h5_0001_0000/batch_normalization/beta:0' shape=(512,) dtype=float32_ref>,\n <tf.Variable 'd_h5_0001_0000/weight:0' shape=(1, 1, 512, 512) dtype=float32_ref>,\n <tf.Variable 'd_h5_0001_0000/bias:0' shape=(512,) dtype=float32_ref>,\n <tf.Variable 'd_h6_0001_0000/batch_normalization/beta:0' shape=(512,) dtype=float32_ref>,\n <tf.Variable 'd_h6_0001_0000/weight:0' shape=(1, 1, 512, 1) dtype=float32_ref>,\n <tf.Variable 'd_h6_0001_0000/bias:0' shape=(1,) dtype=float32_ref>,\n <tf.Variable 'd_h7_lin_0001_0000/weight:0' shape=(16, 100) dtype=float32_ref>,\n <tf.Variable 'd_h7_lin_0001_0000/bias:0' shape=(100,) dtype=float32_ref>,\n <tf.Variable 'd_h8_lin_0001_0000/weight:0' shape=(100, 2) dtype=float32_ref>,\n <tf.Variable 'd_h8_lin_0001_0000/bias:0' shape=(2,) dtype=float32_ref>,\n <tf.Variable 'd_h0_0001_0001/weight:0' shape=(3, 3, 3, 64) dtype=float32_ref>,\n <tf.Variable 'd_h0_0001_0001/bias:0' shape=(64,) dtype=float32_ref>,\n <tf.Variable 'd_h1_0001_0001/batch_normalization/beta:0' shape=(64,) dtype=float32_ref>,\n <tf.Variable 'd_h1_0001_0001/weight:0' shape=(3, 3, 64, 128) dtype=float32_ref>,\n <tf.Variable 'd_h1_0001_0001/bias:0' shape=(128,) dtype=float32_ref>,\n <tf.Variable 'd_h2_0001_0001/batch_normalization/beta:0' shape=(128,) dtype=float32_ref>,\n <tf.Variable 'd_h2_0001_0001/weight:0' shape=(3, 3, 128, 256) dtype=float32_ref>,\n <tf.Variable 'd_h2_0001_0001/bias:0' shape=(256,) dtype=float32_ref>,\n <tf.Variable 'd_h3_0001_0001/batch_normalization/beta:0' shape=(256,) dtype=float32_ref>,\n <tf.Variable 'd_h3_0001_0001/weight:0' shape=(3, 3, 256, 512) dtype=float32_ref>,\n <tf.Variable 'd_h3_0001_0001/bias:0' shape=(512,) dtype=float32_ref>,\n <tf.Variable 'd_h4_0001_0001/batch_normalization/beta:0' shape=(512,) dtype=float32_ref>,\n <tf.Variable 'd_h4_0001_0001/weight:0' shape=(3, 3, 512, 512) dtype=float32_ref>,\n <tf.Variable 'd_h4_0001_0001/bias:0' shape=(512,) dtype=float32_ref>,\n <tf.Variable 'd_h5_0001_0001/batch_normalization/beta:0' shape=(512,) dtype=float32_ref>,\n <tf.Variable 'd_h5_0001_0001/weight:0' shape=(1, 1, 512, 512) dtype=float32_ref>,\n <tf.Variable 'd_h5_0001_0001/bias:0' shape=(512,) dtype=float32_ref>,\n <tf.Variable 'd_h6_0001_0001/batch_normalization/beta:0' shape=(512,) dtype=float32_ref>,\n <tf.Variable 'd_h6_0001_0001/weight:0' shape=(1, 1, 512, 1) dtype=float32_ref>,\n <tf.Variable 'd_h6_0001_0001/bias:0' shape=(1,) dtype=float32_ref>,\n <tf.Variable 'd_h7_lin_0001_0001/weight:0' shape=(16, 100) dtype=float32_ref>,\n <tf.Variable 'd_h7_lin_0001_0001/bias:0' shape=(100,) dtype=float32_ref>,\n <tf.Variable 'd_h8_lin_0001_0001/weight:0' shape=(100, 2) dtype=float32_ref>,\n <tf.Variable 'd_h8_lin_0001_0001/bias:0' shape=(2,) dtype=float32_ref>]"
      ]
     },
     "execution_count": 9,
     "metadata": {},
     "output_type": "execute_result"
    }
   ],
   "source": [
    "tf.trainable_variables()"
   ]
  },
  {
   "cell_type": "code",
   "execution_count": 1,
   "metadata": {},
   "outputs": [
    {
     "name": "stderr",
     "output_type": "stream",
     "text": [
      "/home/egor/anaconda2/lib/python2.7/site-packages/h5py/__init__.py:36: FutureWarning: Conversion of the second argument of issubdtype from `float` to `np.floating` is deprecated. In future, it will be treated as `np.float64 == np.dtype(float).type`.\n  from ._conv import register_converters as _register_converters\n"
     ]
    }
   ],
   "source": [
    "from utils import *"
   ]
  },
  {
   "cell_type": "code",
   "execution_count": null,
   "metadata": {},
   "outputs": [],
   "source": [
    ""
   ]
  }
 ],
 "metadata": {
  "kernelspec": {
   "display_name": "Python 2",
   "language": "python",
   "name": "python2"
  },
  "language_info": {
   "codemirror_mode": {
    "name": "ipython",
    "version": 2.0
   },
   "file_extension": ".py",
   "mimetype": "text/x-python",
   "name": "python",
   "nbconvert_exporter": "python",
   "pygments_lexer": "ipython2",
   "version": "2.7.6"
  }
 },
 "nbformat": 4,
 "nbformat_minor": 0
}