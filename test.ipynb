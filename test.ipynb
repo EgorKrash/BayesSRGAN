{
 "cells": [
  {
   "cell_type": "code",
   "execution_count": 1,
   "metadata": {
    "collapsed": false
   },
   "outputs": [
    {
     "name": "stderr",
     "output_type": "stream",
     "text": [
      "/home/egor/anaconda2/lib/python2.7/site-packages/h5py/__init__.py:36: FutureWarning: Conversion of the second argument of issubdtype from `float` to `np.floating` is deprecated. In future, it will be treated as `np.float64 == np.dtype(float).type`.\n  from ._conv import register_converters as _register_converters\n"
     ]
    }
   ],
   "source": [
    "from utils import Model\n",
    "import random\n",
    "import numpy as np\n",
    "import os"
   ]
  },
  {
   "cell_type": "code",
   "execution_count": 2,
   "metadata": {},
   "outputs": [],
   "source": [
    "import tensorflow as tf\n",
    "\n",
    "\n",
    "def setup_tensorflow():\n",
    "    # Create session\n",
    "    config = tf.ConfigProto(log_device_placement=FLAGS.log_device_placement)\n",
    "    sess = tf.Session(config=config)\n",
    "\n",
    "    # Initialize rng with a deterministic seed\n",
    "    with sess.graph.as_default():\n",
    "        tf.set_random_seed(FLAGS.random_seed)\n",
    "\n",
    "    random.seed(FLAGS.random_seed)\n",
    "    np.random.seed(FLAGS.random_seed)\n",
    "\n",
    "    summary_writer = tf.summary.FileWriter(FLAGS.train_dir, sess.graph)\n",
    "\n",
    "    return sess, summary_writer\n",
    "\n",
    "\n",
    "def setup_inputs(sess, filenames, image_size=None, capacity_factor=3):\n",
    "\n",
    "    if image_size is None:\n",
    "        image_size = FLAGS.sample_size\n",
    "    \n",
    "    # Read each JPEG file\n",
    "    reader = tf.WholeFileReader()\n",
    "    filename_queue = tf.train.string_input_producer(filenames)\n",
    "    key, value = reader.read(filename_queue)\n",
    "    channels = 3\n",
    "    image = tf.image.decode_jpeg(value, channels=channels, name=\"dataset_image\")\n",
    "    image.set_shape([64, 64, channels])\n",
    "\n",
    "    # Crop and other random augmentations\n",
    "    image = tf.image.random_flip_left_right(image)\n",
    "    image = tf.image.random_saturation(image, .95, 1.05)\n",
    "    image = tf.image.random_brightness(image, .05)\n",
    "    image = tf.image.random_contrast(image, .95, 1.05)\n",
    "    image = tf.reshape(image, [1, 64, 64, 3])\n",
    "    image = tf.cast(image, tf.float32)/255.0\n",
    "    \n",
    "    K = 2\n",
    "    downsampled = tf.image.resize_area(image, [image_size/K, image_size/K])\n",
    "\n",
    "    feature = tf.reshape(downsampled, [image_size/K, image_size/K, 3])\n",
    "    label = tf.reshape(image,       [image_size,   image_size,     3])\n",
    "\n",
    "    # Using asynchronous queues\n",
    "    features, labels = tf.train.batch([feature, label],\n",
    "                                      batch_size=FLAGS.batch_size,\n",
    "                                      num_threads=4,\n",
    "                                      capacity=capacity_factor*FLAGS.batch_size,\n",
    "                                      name='labels_and_features')\n",
    "\n",
    "    tf.train.start_queue_runners(sess=sess)\n",
    "    \n",
    "    return features, labels"
   ]
  },
  {
   "cell_type": "code",
   "execution_count": 4,
   "metadata": {
    "collapsed": false
   },
   "outputs": [],
   "source": [
    "tf.reset_default_graph()\n",
    "sess, summary_writer = setup_tensorflow()"
   ]
  },
  {
   "cell_type": "code",
   "execution_count": 5,
   "metadata": {},
   "outputs": [],
   "source": [
    "def generator(features, params=None, return_params=False):\n",
    "    # Upside-down all-convolutional resnet\n",
    "    \n",
    "    mapsize = 3\n",
    "\n",
    "    # See Arxiv 1603.05027\n",
    "    scope = 'g'\n",
    "    model = Model(scope, features, params)\n",
    "    \n",
    "    for j in range(2):\n",
    "        model.add_residual_block(256, mapsize=mapsize)\n",
    "\n",
    "    # Spatial upscale (see http://distill.pub/2016/deconv-checkerboard/)\n",
    "    # and transposed convolution\n",
    "    # don't apply second upscaling (we need 2x factor)\n",
    "    model.add_upscale()\n",
    "    model.add_batch_norm()\n",
    "    model.add_relu()\n",
    "    model.add_conv2d_transpose(256, mapsize=mapsize, stride=1, stddev_factor=1.)\n",
    "       \n",
    "    # Finalization a la \"all convolutional net\"\n",
    "    \n",
    "    model.add_conv2d(96, mapsize=mapsize, stride=1, stddev_factor=2.)\n",
    "    # Worse: model.add_batch_norm()\n",
    "    model.add_relu()\n",
    "\n",
    "    model.add_conv2d(96, mapsize=1, stride=1, stddev_factor=2.)\n",
    "    # Worse: model.add_batch_norm()\n",
    "    model.add_relu()\n",
    "\n",
    "    # Last layer is sigmoid with no batch normalization\n",
    "    model.add_conv2d(3, mapsize=1, stride=1, stddev_factor=1.)\n",
    "    model.add_sigmoid() # TODO: add tanh\n",
    "    \n",
    "    gene_vars = model.params\n",
    "    model.summarize()\n",
    "    if return_params:\n",
    "        return model.get_output(), gene_vars\n",
    "    return model.get_output()"
   ]
  },
  {
   "cell_type": "code",
   "execution_count": 6,
   "metadata": {},
   "outputs": [],
   "source": [
    "def discriminator(disc_input, params=None, return_params=False):\n",
    "    # Fully convolutional model\n",
    "    mapsize = 3\n",
    "    layers = [64, 128, 256, 512]\n",
    "\n",
    "    model = Model('d', 2 * disc_input - 1, params)  # normalize between -1 and 1\n",
    "\n",
    "    for layer in range(len(layers)):\n",
    "        nunits = layers[layer]\n",
    "        stddev_factor = 2.0\n",
    "\n",
    "        model.add_conv2d(nunits, mapsize=mapsize, stride=2, stddev_factor=stddev_factor)\n",
    "        model.add_batch_norm()\n",
    "        model.add_relu()\n",
    "\n",
    "    # Finalization a la \"all convolutional net\"\n",
    "    model.add_conv2d(nunits, mapsize=mapsize, stride=1, stddev_factor=stddev_factor)\n",
    "    model.add_batch_norm()\n",
    "    model.add_relu()\n",
    "\n",
    "    model.add_conv2d(nunits, mapsize=1, stride=1, stddev_factor=stddev_factor)\n",
    "    model.add_batch_norm()\n",
    "    model.add_relu()\n",
    "\n",
    "    # Linearly map to real/fake and return average score\n",
    "    # (softmax will be applied later)\n",
    "    model.add_conv2d(1, mapsize=1, stride=1, stddev_factor=stddev_factor)\n",
    "    model.add_mean()\n",
    "\n",
    "    disc_vars = model.params\n",
    "    model.summarize()\n",
    "    if return_params:\n",
    "        return model.get_output(), disc_vars\n",
    "    return model.get_output()"
   ]
  },
  {
   "cell_type": "code",
   "execution_count": null,
   "metadata": {},
   "outputs": [],
   "source": [
    "filenames = os.listdir('dataset')\n",
    "features, labels = setup_inputs(sess, filenames)"
   ]
  },
  {
   "cell_type": "code",
   "execution_count": 1,
   "metadata": {},
   "outputs": [
    {
     "name": "stderr",
     "output_type": "stream",
     "text": [
      "/home/egor/anaconda2/lib/python2.7/site-packages/h5py/__init__.py:36: FutureWarning: Conversion of the second argument of issubdtype from `float` to `np.floating` is deprecated. In future, it will be treated as `np.float64 == np.dtype(float).type`.\n  from ._conv import register_converters as _register_converters\n"
     ]
    },
    {
     "data": {
      "text/plain": [
       "array([[50., 50., 50., 50., 50., 50., 50., 50., 50., 50.],\n       [50., 50., 50., 50., 50., 50., 50., 50., 50., 50.],\n       [50., 50., 50., 50., 50., 50., 50., 50., 50., 50.],\n       [50., 50., 50., 50., 50., 50., 50., 50., 50., 50.],\n       [50., 50., 50., 50., 50., 50., 50., 50., 50., 50.],\n       [50., 50., 50., 50., 50., 50., 50., 50., 50., 50.],\n       [50., 50., 50., 50., 50., 50., 50., 50., 50., 50.],\n       [50., 50., 50., 50., 50., 50., 50., 50., 50., 50.],\n       [50., 50., 50., 50., 50., 50., 50., 50., 50., 50.],\n       [50., 50., 50., 50., 50., 50., 50., 50., 50., 50.],\n       [50., 50., 50., 50., 50., 50., 50., 50., 50., 50.],\n       [50., 50., 50., 50., 50., 50., 50., 50., 50., 50.],\n       [50., 50., 50., 50., 50., 50., 50., 50., 50., 50.],\n       [50., 50., 50., 50., 50., 50., 50., 50., 50., 50.],\n       [50., 50., 50., 50., 50., 50., 50., 50., 50., 50.],\n       [50., 50., 50., 50., 50., 50., 50., 50., 50., 50.],\n       [50., 50., 50., 50., 50., 50., 50., 50., 50., 50.],\n       [50., 50., 50., 50., 50., 50., 50., 50., 50., 50.],\n       [50., 50., 50., 50., 50., 50., 50., 50., 50., 50.],\n       [50., 50., 50., 50., 50., 50., 50., 50., 50., 50.],\n       [50., 50., 50., 50., 50., 50., 50., 50., 50., 50.],\n       [50., 50., 50., 50., 50., 50., 50., 50., 50., 50.],\n       [50., 50., 50., 50., 50., 50., 50., 50., 50., 50.],\n       [50., 50., 50., 50., 50., 50., 50., 50., 50., 50.],\n       [50., 50., 50., 50., 50., 50., 50., 50., 50., 50.],\n       [50., 50., 50., 50., 50., 50., 50., 50., 50., 50.],\n       [50., 50., 50., 50., 50., 50., 50., 50., 50., 50.],\n       [50., 50., 50., 50., 50., 50., 50., 50., 50., 50.],\n       [50., 50., 50., 50., 50., 50., 50., 50., 50., 50.],\n       [50., 50., 50., 50., 50., 50., 50., 50., 50., 50.],\n       [50., 50., 50., 50., 50., 50., 50., 50., 50., 50.],\n       [50., 50., 50., 50., 50., 50., 50., 50., 50., 50.],\n       [50., 50., 50., 50., 50., 50., 50., 50., 50., 50.],\n       [50., 50., 50., 50., 50., 50., 50., 50., 50., 50.],\n       [50., 50., 50., 50., 50., 50., 50., 50., 50., 50.],\n       [50., 50., 50., 50., 50., 50., 50., 50., 50., 50.],\n       [50., 50., 50., 50., 50., 50., 50., 50., 50., 50.],\n       [50., 50., 50., 50., 50., 50., 50., 50., 50., 50.],\n       [50., 50., 50., 50., 50., 50., 50., 50., 50., 50.],\n       [50., 50., 50., 50., 50., 50., 50., 50., 50., 50.],\n       [50., 50., 50., 50., 50., 50., 50., 50., 50., 50.],\n       [50., 50., 50., 50., 50., 50., 50., 50., 50., 50.],\n       [50., 50., 50., 50., 50., 50., 50., 50., 50., 50.],\n       [50., 50., 50., 50., 50., 50., 50., 50., 50., 50.],\n       [50., 50., 50., 50., 50., 50., 50., 50., 50., 50.],\n       [50., 50., 50., 50., 50., 50., 50., 50., 50., 50.],\n       [50., 50., 50., 50., 50., 50., 50., 50., 50., 50.],\n       [50., 50., 50., 50., 50., 50., 50., 50., 50., 50.],\n       [50., 50., 50., 50., 50., 50., 50., 50., 50., 50.],\n       [50., 50., 50., 50., 50., 50., 50., 50., 50., 50.],\n       [50., 50., 50., 50., 50., 50., 50., 50., 50., 50.],\n       [50., 50., 50., 50., 50., 50., 50., 50., 50., 50.],\n       [50., 50., 50., 50., 50., 50., 50., 50., 50., 50.],\n       [50., 50., 50., 50., 50., 50., 50., 50., 50., 50.],\n       [50., 50., 50., 50., 50., 50., 50., 50., 50., 50.],\n       [50., 50., 50., 50., 50., 50., 50., 50., 50., 50.],\n       [50., 50., 50., 50., 50., 50., 50., 50., 50., 50.],\n       [50., 50., 50., 50., 50., 50., 50., 50., 50., 50.],\n       [50., 50., 50., 50., 50., 50., 50., 50., 50., 50.],\n       [50., 50., 50., 50., 50., 50., 50., 50., 50., 50.],\n       [50., 50., 50., 50., 50., 50., 50., 50., 50., 50.],\n       [50., 50., 50., 50., 50., 50., 50., 50., 50., 50.],\n       [50., 50., 50., 50., 50., 50., 50., 50., 50., 50.],\n       [50., 50., 50., 50., 50., 50., 50., 50., 50., 50.],\n       [50., 50., 50., 50., 50., 50., 50., 50., 50., 50.],\n       [50., 50., 50., 50., 50., 50., 50., 50., 50., 50.],\n       [50., 50., 50., 50., 50., 50., 50., 50., 50., 50.],\n       [50., 50., 50., 50., 50., 50., 50., 50., 50., 50.],\n       [50., 50., 50., 50., 50., 50., 50., 50., 50., 50.],\n       [50., 50., 50., 50., 50., 50., 50., 50., 50., 50.],\n       [50., 50., 50., 50., 50., 50., 50., 50., 50., 50.],\n       [50., 50., 50., 50., 50., 50., 50., 50., 50., 50.],\n       [50., 50., 50., 50., 50., 50., 50., 50., 50., 50.],\n       [50., 50., 50., 50., 50., 50., 50., 50., 50., 50.],\n       [50., 50., 50., 50., 50., 50., 50., 50., 50., 50.],\n       [50., 50., 50., 50., 50., 50., 50., 50., 50., 50.],\n       [50., 50., 50., 50., 50., 50., 50., 50., 50., 50.],\n       [50., 50., 50., 50., 50., 50., 50., 50., 50., 50.],\n       [50., 50., 50., 50., 50., 50., 50., 50., 50., 50.],\n       [50., 50., 50., 50., 50., 50., 50., 50., 50., 50.],\n       [50., 50., 50., 50., 50., 50., 50., 50., 50., 50.],\n       [50., 50., 50., 50., 50., 50., 50., 50., 50., 50.],\n       [50., 50., 50., 50., 50., 50., 50., 50., 50., 50.],\n       [50., 50., 50., 50., 50., 50., 50., 50., 50., 50.],\n       [50., 50., 50., 50., 50., 50., 50., 50., 50., 50.],\n       [50., 50., 50., 50., 50., 50., 50., 50., 50., 50.],\n       [50., 50., 50., 50., 50., 50., 50., 50., 50., 50.],\n       [50., 50., 50., 50., 50., 50., 50., 50., 50., 50.],\n       [50., 50., 50., 50., 50., 50., 50., 50., 50., 50.],\n       [50., 50., 50., 50., 50., 50., 50., 50., 50., 50.],\n       [50., 50., 50., 50., 50., 50., 50., 50., 50., 50.],\n       [50., 50., 50., 50., 50., 50., 50., 50., 50., 50.],\n       [50., 50., 50., 50., 50., 50., 50., 50., 50., 50.],\n       [50., 50., 50., 50., 50., 50., 50., 50., 50., 50.],\n       [50., 50., 50., 50., 50., 50., 50., 50., 50., 50.],\n       [50., 50., 50., 50., 50., 50., 50., 50., 50., 50.],\n       [50., 50., 50., 50., 50., 50., 50., 50., 50., 50.],\n       [50., 50., 50., 50., 50., 50., 50., 50., 50., 50.],\n       [50., 50., 50., 50., 50., 50., 50., 50., 50., 50.],\n       [50., 50., 50., 50., 50., 50., 50., 50., 50., 50.]], dtype=float32)"
      ]
     },
     "execution_count": 1,
     "metadata": {},
     "output_type": "execute_result"
    }
   ],
   "source": [
    "# check whether gpu is alive\n",
    "import tensorflow as tf\n",
    "tf.reset_default_graph()\n",
    "sess = tf.InteractiveSession()\n",
    "with tf.device('gpu:0'):\n",
    "    a = tf.constant(1, tf.float32, [100, 100])\n",
    "    b = tf.constant(0.5, tf.float32, [100, 10])\n",
    "    c = tf.matmul(a, b)\n",
    "sess.run(c)"
   ]
  },
  {
   "cell_type": "code",
   "execution_count": null,
   "metadata": {},
   "outputs": [],
   "source": [
    ""
   ]
  },
  {
   "cell_type": "code",
   "execution_count": null,
   "metadata": {
    "collapsed": false
   },
   "outputs": [],
   "source": [
    "gen_out, pars = generator(tf.constant(0.0, shape=features.shape, dtype=tf.float32), return_params=True)"
   ]
  },
  {
   "cell_type": "code",
   "execution_count": 1,
   "metadata": {},
   "outputs": [
    {
     "name": "stderr",
     "output_type": "stream",
     "text": [
      "/home/egor/anaconda2/lib/python2.7/site-packages/h5py/__init__.py:36: FutureWarning: Conversion of the second argument of issubdtype from `float` to `np.floating` is deprecated. In future, it will be treated as `np.float64 == np.dtype(float).type`.\n  from ._conv import register_converters as _register_converters\n"
     ]
    }
   ],
   "source": [
    "# Configuration (alphabetically)\n",
    "import tensorflow as tf\n",
    "tf.app.flags.DEFINE_integer('batch_size', 64,\n",
    "                            \"Number of samples per batch.\")\n",
    "\n",
    "tf.app.flags.DEFINE_string('checkpoint_dir', 'checkpoint',\n",
    "                           \"Output folder where checkpoints are dumped.\")\n",
    "\n",
    "tf.app.flags.DEFINE_integer('checkpoint_period', 10000,\n",
    "                            \"Number of batches in between checkpoints\")\n",
    "\n",
    "tf.app.flags.DEFINE_string('dataset', 'dataset',\n",
    "                           \"Path to the dataset directory.\")\n",
    "\n",
    "tf.app.flags.DEFINE_float('epsilon', 1e-8,\n",
    "                          \"Fuzz term to avoid numerical instability\")\n",
    "\n",
    "tf.app.flags.DEFINE_string('run', 'demo',\n",
    "                            \"Which operation to run. [demo|train]\")\n",
    "\n",
    "tf.app.flags.DEFINE_float('gene_l1_factor', .90,\n",
    "                          \"Multiplier for generator L1 loss term\")\n",
    "\n",
    "tf.app.flags.DEFINE_float('learning_beta1', 0.5,\n",
    "                          \"Beta1 parameter used for AdamOptimizer\")\n",
    "\n",
    "tf.app.flags.DEFINE_float('learning_rate_start', 0.00020,\n",
    "                          \"Starting learning rate used for AdamOptimizer\")\n",
    "\n",
    "tf.app.flags.DEFINE_integer('learning_rate_half_life', 5000,\n",
    "                            \"Number of batches until learning rate is halved\")\n",
    "\n",
    "tf.app.flags.DEFINE_bool('log_device_placement', False,\n",
    "                         \"Log the device where variables are placed.\")\n",
    "\n",
    "tf.app.flags.DEFINE_integer('sample_size', 64,\n",
    "                            \"Image sample size in pixels. Range [64,128]\")\n",
    "\n",
    "tf.app.flags.DEFINE_integer('summary_period', 200,\n",
    "                            \"Number of batches between summary data dumps\")\n",
    "\n",
    "\n",
    "tf.app.flags.DEFINE_integer('random_seed', 0,\n",
    "                            \"Seed used to initialize rng.\")\n",
    "\n",
    "tf.app.flags.DEFINE_integer('test_vectors', 16,\n",
    "                            \"\"\"Number of features to use for testing\"\"\")\n",
    "                            \n",
    "tf.app.flags.DEFINE_string('train_dir', 'train',\n",
    "                           \"Output folder where training logs are dumped.\")\n",
    "\n",
    "tf.app.flags.DEFINE_integer('train_time', 20,\n",
    "                            \"Time in minutes to train the model\")\n",
    "\n",
    "FLAGS = tf.app.flags.FLAGS"
   ]
  },
  {
   "cell_type": "code",
   "execution_count": 11,
   "metadata": {
    "collapsed": true
   },
   "outputs": [],
   "source": [
    "%%time\n",
    "from arch import BSRGAN\n",
    "tf.reset_default_graph()\n",
    "bsrgan = BSRGAN(labels, features, 100000, J=2, J_d=2, M=2, batch_size=FLAGS.batch_size)"
   ]
  },
  {
   "cell_type": "code",
   "execution_count": 9,
   "metadata": {},
   "outputs": [
    {
     "data": {
      "text/plain": [
       "[<tf.Variable 'g_h0_0000_0000/weight:0' shape=(1, 1, 3, 256) dtype=float32_ref>,\n <tf.Variable 'g_h0_0000_0000/bias:0' shape=(256,) dtype=float32_ref>,\n <tf.Variable 'g_h1_0000_0000/batch_normalization/beta:0' shape=(256,) dtype=float32_ref>,\n <tf.Variable 'g_h1_0000_0000/weight:0' shape=(3, 3, 256, 256) dtype=float32_ref>,\n <tf.Variable 'g_h1_0000_0000/bias:0' shape=(256,) dtype=float32_ref>,\n <tf.Variable 'g_h2_0000_0000/batch_normalization/beta:0' shape=(256,) dtype=float32_ref>,\n <tf.Variable 'g_h2_0000_0000/weight:0' shape=(3, 3, 256, 256) dtype=float32_ref>,\n <tf.Variable 'g_h2_0000_0000/bias:0' shape=(256,) dtype=float32_ref>,\n <tf.Variable 'g_h3_0000_0000/batch_normalization/beta:0' shape=(256,) dtype=float32_ref>,\n <tf.Variable 'g_h3_0000_0000/weight:0' shape=(3, 3, 256, 256) dtype=float32_ref>,\n <tf.Variable 'g_h3_0000_0000/bias:0' shape=(256,) dtype=float32_ref>,\n <tf.Variable 'g_h4_0000_0000/batch_normalization/beta:0' shape=(256,) dtype=float32_ref>,\n <tf.Variable 'g_h4_0000_0000/weight:0' shape=(3, 3, 256, 256) dtype=float32_ref>,\n <tf.Variable 'g_h4_0000_0000/bias:0' shape=(256,) dtype=float32_ref>,\n <tf.Variable 'g_h5_0000_0000/batch_normalization/beta:0' shape=(256,) dtype=float32_ref>,\n <tf.Variable 'g_h5_0000_0000/weight:0' shape=(3, 3, 256, 256) dtype=float32_ref>,\n <tf.Variable 'g_h5_0000_0000/bias:0' shape=(256,) dtype=float32_ref>,\n <tf.Variable 'g_h6_0000_0000/weight:0' shape=(3, 3, 256, 96) dtype=float32_ref>,\n <tf.Variable 'g_h6_0000_0000/bias:0' shape=(96,) dtype=float32_ref>,\n <tf.Variable 'g_h7_0000_0000/weight:0' shape=(1, 1, 96, 96) dtype=float32_ref>,\n <tf.Variable 'g_h7_0000_0000/bias:0' shape=(96,) dtype=float32_ref>,\n <tf.Variable 'g_h8_0000_0000/weight:0' shape=(1, 1, 96, 3) dtype=float32_ref>,\n <tf.Variable 'g_h8_0000_0000/bias:0' shape=(3,) dtype=float32_ref>,\n <tf.Variable 'g_h0_0000_0001/weight:0' shape=(1, 1, 3, 256) dtype=float32_ref>,\n <tf.Variable 'g_h0_0000_0001/bias:0' shape=(256,) dtype=float32_ref>,\n <tf.Variable 'g_h1_0000_0001/batch_normalization/beta:0' shape=(256,) dtype=float32_ref>,\n <tf.Variable 'g_h1_0000_0001/weight:0' shape=(3, 3, 256, 256) dtype=float32_ref>,\n <tf.Variable 'g_h1_0000_0001/bias:0' shape=(256,) dtype=float32_ref>,\n <tf.Variable 'g_h2_0000_0001/batch_normalization/beta:0' shape=(256,) dtype=float32_ref>,\n <tf.Variable 'g_h2_0000_0001/weight:0' shape=(3, 3, 256, 256) dtype=float32_ref>,\n <tf.Variable 'g_h2_0000_0001/bias:0' shape=(256,) dtype=float32_ref>,\n <tf.Variable 'g_h3_0000_0001/batch_normalization/beta:0' shape=(256,) dtype=float32_ref>,\n <tf.Variable 'g_h3_0000_0001/weight:0' shape=(3, 3, 256, 256) dtype=float32_ref>,\n <tf.Variable 'g_h3_0000_0001/bias:0' shape=(256,) dtype=float32_ref>,\n <tf.Variable 'g_h4_0000_0001/batch_normalization/beta:0' shape=(256,) dtype=float32_ref>,\n <tf.Variable 'g_h4_0000_0001/weight:0' shape=(3, 3, 256, 256) dtype=float32_ref>,\n <tf.Variable 'g_h4_0000_0001/bias:0' shape=(256,) dtype=float32_ref>,\n <tf.Variable 'g_h5_0000_0001/batch_normalization/beta:0' shape=(256,) dtype=float32_ref>,\n <tf.Variable 'g_h5_0000_0001/weight:0' shape=(3, 3, 256, 256) dtype=float32_ref>,\n <tf.Variable 'g_h5_0000_0001/bias:0' shape=(256,) dtype=float32_ref>,\n <tf.Variable 'g_h6_0000_0001/weight:0' shape=(3, 3, 256, 96) dtype=float32_ref>,\n <tf.Variable 'g_h6_0000_0001/bias:0' shape=(96,) dtype=float32_ref>,\n <tf.Variable 'g_h7_0000_0001/weight:0' shape=(1, 1, 96, 96) dtype=float32_ref>,\n <tf.Variable 'g_h7_0000_0001/bias:0' shape=(96,) dtype=float32_ref>,\n <tf.Variable 'g_h8_0000_0001/weight:0' shape=(1, 1, 96, 3) dtype=float32_ref>,\n <tf.Variable 'g_h8_0000_0001/bias:0' shape=(3,) dtype=float32_ref>,\n <tf.Variable 'g_h0_0001_0000/weight:0' shape=(1, 1, 3, 256) dtype=float32_ref>,\n <tf.Variable 'g_h0_0001_0000/bias:0' shape=(256,) dtype=float32_ref>,\n <tf.Variable 'g_h1_0001_0000/batch_normalization/beta:0' shape=(256,) dtype=float32_ref>,\n <tf.Variable 'g_h1_0001_0000/weight:0' shape=(3, 3, 256, 256) dtype=float32_ref>,\n <tf.Variable 'g_h1_0001_0000/bias:0' shape=(256,) dtype=float32_ref>,\n <tf.Variable 'g_h2_0001_0000/batch_normalization/beta:0' shape=(256,) dtype=float32_ref>,\n <tf.Variable 'g_h2_0001_0000/weight:0' shape=(3, 3, 256, 256) dtype=float32_ref>,\n <tf.Variable 'g_h2_0001_0000/bias:0' shape=(256,) dtype=float32_ref>,\n <tf.Variable 'g_h3_0001_0000/batch_normalization/beta:0' shape=(256,) dtype=float32_ref>,\n <tf.Variable 'g_h3_0001_0000/weight:0' shape=(3, 3, 256, 256) dtype=float32_ref>,\n <tf.Variable 'g_h3_0001_0000/bias:0' shape=(256,) dtype=float32_ref>,\n <tf.Variable 'g_h4_0001_0000/batch_normalization/beta:0' shape=(256,) dtype=float32_ref>,\n <tf.Variable 'g_h4_0001_0000/weight:0' shape=(3, 3, 256, 256) dtype=float32_ref>,\n <tf.Variable 'g_h4_0001_0000/bias:0' shape=(256,) dtype=float32_ref>,\n <tf.Variable 'g_h5_0001_0000/batch_normalization/beta:0' shape=(256,) dtype=float32_ref>,\n <tf.Variable 'g_h5_0001_0000/weight:0' shape=(3, 3, 256, 256) dtype=float32_ref>,\n <tf.Variable 'g_h5_0001_0000/bias:0' shape=(256,) dtype=float32_ref>,\n <tf.Variable 'g_h6_0001_0000/weight:0' shape=(3, 3, 256, 96) dtype=float32_ref>,\n <tf.Variable 'g_h6_0001_0000/bias:0' shape=(96,) dtype=float32_ref>,\n <tf.Variable 'g_h7_0001_0000/weight:0' shape=(1, 1, 96, 96) dtype=float32_ref>,\n <tf.Variable 'g_h7_0001_0000/bias:0' shape=(96,) dtype=float32_ref>,\n <tf.Variable 'g_h8_0001_0000/weight:0' shape=(1, 1, 96, 3) dtype=float32_ref>,\n <tf.Variable 'g_h8_0001_0000/bias:0' shape=(3,) dtype=float32_ref>,\n <tf.Variable 'g_h0_0001_0001/weight:0' shape=(1, 1, 3, 256) dtype=float32_ref>,\n <tf.Variable 'g_h0_0001_0001/bias:0' shape=(256,) dtype=float32_ref>,\n <tf.Variable 'g_h1_0001_0001/batch_normalization/beta:0' shape=(256,) dtype=float32_ref>,\n <tf.Variable 'g_h1_0001_0001/weight:0' shape=(3, 3, 256, 256) dtype=float32_ref>,\n <tf.Variable 'g_h1_0001_0001/bias:0' shape=(256,) dtype=float32_ref>,\n <tf.Variable 'g_h2_0001_0001/batch_normalization/beta:0' shape=(256,) dtype=float32_ref>,\n <tf.Variable 'g_h2_0001_0001/weight:0' shape=(3, 3, 256, 256) dtype=float32_ref>,\n <tf.Variable 'g_h2_0001_0001/bias:0' shape=(256,) dtype=float32_ref>,\n <tf.Variable 'g_h3_0001_0001/batch_normalization/beta:0' shape=(256,) dtype=float32_ref>,\n <tf.Variable 'g_h3_0001_0001/weight:0' shape=(3, 3, 256, 256) dtype=float32_ref>,\n <tf.Variable 'g_h3_0001_0001/bias:0' shape=(256,) dtype=float32_ref>,\n <tf.Variable 'g_h4_0001_0001/batch_normalization/beta:0' shape=(256,) dtype=float32_ref>,\n <tf.Variable 'g_h4_0001_0001/weight:0' shape=(3, 3, 256, 256) dtype=float32_ref>,\n <tf.Variable 'g_h4_0001_0001/bias:0' shape=(256,) dtype=float32_ref>,\n <tf.Variable 'g_h5_0001_0001/batch_normalization/beta:0' shape=(256,) dtype=float32_ref>,\n <tf.Variable 'g_h5_0001_0001/weight:0' shape=(3, 3, 256, 256) dtype=float32_ref>,\n <tf.Variable 'g_h5_0001_0001/bias:0' shape=(256,) dtype=float32_ref>,\n <tf.Variable 'g_h6_0001_0001/weight:0' shape=(3, 3, 256, 96) dtype=float32_ref>,\n <tf.Variable 'g_h6_0001_0001/bias:0' shape=(96,) dtype=float32_ref>,\n <tf.Variable 'g_h7_0001_0001/weight:0' shape=(1, 1, 96, 96) dtype=float32_ref>,\n <tf.Variable 'g_h7_0001_0001/bias:0' shape=(96,) dtype=float32_ref>,\n <tf.Variable 'g_h8_0001_0001/weight:0' shape=(1, 1, 96, 3) dtype=float32_ref>,\n <tf.Variable 'g_h8_0001_0001/bias:0' shape=(3,) dtype=float32_ref>,\n <tf.Variable 'd_h0_0000_0000/weight:0' shape=(3, 3, 3, 64) dtype=float32_ref>,\n <tf.Variable 'd_h0_0000_0000/bias:0' shape=(64,) dtype=float32_ref>,\n <tf.Variable 'd_h1_0000_0000/batch_normalization/beta:0' shape=(64,) dtype=float32_ref>,\n <tf.Variable 'd_h1_0000_0000/weight:0' shape=(3, 3, 64, 128) dtype=float32_ref>,\n <tf.Variable 'd_h1_0000_0000/bias:0' shape=(128,) dtype=float32_ref>,\n <tf.Variable 'd_h2_0000_0000/batch_normalization/beta:0' shape=(128,) dtype=float32_ref>,\n <tf.Variable 'd_h2_0000_0000/weight:0' shape=(3, 3, 128, 256) dtype=float32_ref>,\n <tf.Variable 'd_h2_0000_0000/bias:0' shape=(256,) dtype=float32_ref>,\n <tf.Variable 'd_h3_0000_0000/batch_normalization/beta:0' shape=(256,) dtype=float32_ref>,\n <tf.Variable 'd_h3_0000_0000/weight:0' shape=(3, 3, 256, 512) dtype=float32_ref>,\n <tf.Variable 'd_h3_0000_0000/bias:0' shape=(512,) dtype=float32_ref>,\n <tf.Variable 'd_h4_0000_0000/batch_normalization/beta:0' shape=(512,) dtype=float32_ref>,\n <tf.Variable 'd_h4_0000_0000/weight:0' shape=(3, 3, 512, 512) dtype=float32_ref>,\n <tf.Variable 'd_h4_0000_0000/bias:0' shape=(512,) dtype=float32_ref>,\n <tf.Variable 'd_h5_0000_0000/batch_normalization/beta:0' shape=(512,) dtype=float32_ref>,\n <tf.Variable 'd_h5_0000_0000/weight:0' shape=(1, 1, 512, 512) dtype=float32_ref>,\n <tf.Variable 'd_h5_0000_0000/bias:0' shape=(512,) dtype=float32_ref>,\n <tf.Variable 'd_h6_0000_0000/batch_normalization/beta:0' shape=(512,) dtype=float32_ref>,\n <tf.Variable 'd_h6_0000_0000/weight:0' shape=(1, 1, 512, 1) dtype=float32_ref>,\n <tf.Variable 'd_h6_0000_0000/bias:0' shape=(1,) dtype=float32_ref>,\n <tf.Variable 'd_h7_lin_0000_0000/weight:0' shape=(16, 100) dtype=float32_ref>,\n <tf.Variable 'd_h7_lin_0000_0000/bias:0' shape=(100,) dtype=float32_ref>,\n <tf.Variable 'd_h8_lin_0000_0000/weight:0' shape=(100, 2) dtype=float32_ref>,\n <tf.Variable 'd_h8_lin_0000_0000/bias:0' shape=(2,) dtype=float32_ref>,\n <tf.Variable 'd_h0_0000_0001/weight:0' shape=(3, 3, 3, 64) dtype=float32_ref>,\n <tf.Variable 'd_h0_0000_0001/bias:0' shape=(64,) dtype=float32_ref>,\n <tf.Variable 'd_h1_0000_0001/batch_normalization/beta:0' shape=(64,) dtype=float32_ref>,\n <tf.Variable 'd_h1_0000_0001/weight:0' shape=(3, 3, 64, 128) dtype=float32_ref>,\n <tf.Variable 'd_h1_0000_0001/bias:0' shape=(128,) dtype=float32_ref>,\n <tf.Variable 'd_h2_0000_0001/batch_normalization/beta:0' shape=(128,) dtype=float32_ref>,\n <tf.Variable 'd_h2_0000_0001/weight:0' shape=(3, 3, 128, 256) dtype=float32_ref>,\n <tf.Variable 'd_h2_0000_0001/bias:0' shape=(256,) dtype=float32_ref>,\n <tf.Variable 'd_h3_0000_0001/batch_normalization/beta:0' shape=(256,) dtype=float32_ref>,\n <tf.Variable 'd_h3_0000_0001/weight:0' shape=(3, 3, 256, 512) dtype=float32_ref>,\n <tf.Variable 'd_h3_0000_0001/bias:0' shape=(512,) dtype=float32_ref>,\n <tf.Variable 'd_h4_0000_0001/batch_normalization/beta:0' shape=(512,) dtype=float32_ref>,\n <tf.Variable 'd_h4_0000_0001/weight:0' shape=(3, 3, 512, 512) dtype=float32_ref>,\n <tf.Variable 'd_h4_0000_0001/bias:0' shape=(512,) dtype=float32_ref>,\n <tf.Variable 'd_h5_0000_0001/batch_normalization/beta:0' shape=(512,) dtype=float32_ref>,\n <tf.Variable 'd_h5_0000_0001/weight:0' shape=(1, 1, 512, 512) dtype=float32_ref>,\n <tf.Variable 'd_h5_0000_0001/bias:0' shape=(512,) dtype=float32_ref>,\n <tf.Variable 'd_h6_0000_0001/batch_normalization/beta:0' shape=(512,) dtype=float32_ref>,\n <tf.Variable 'd_h6_0000_0001/weight:0' shape=(1, 1, 512, 1) dtype=float32_ref>,\n <tf.Variable 'd_h6_0000_0001/bias:0' shape=(1,) dtype=float32_ref>,\n <tf.Variable 'd_h7_lin_0000_0001/weight:0' shape=(16, 100) dtype=float32_ref>,\n <tf.Variable 'd_h7_lin_0000_0001/bias:0' shape=(100,) dtype=float32_ref>,\n <tf.Variable 'd_h8_lin_0000_0001/weight:0' shape=(100, 2) dtype=float32_ref>,\n <tf.Variable 'd_h8_lin_0000_0001/bias:0' shape=(2,) dtype=float32_ref>,\n <tf.Variable 'd_h0_0001_0000/weight:0' shape=(3, 3, 3, 64) dtype=float32_ref>,\n <tf.Variable 'd_h0_0001_0000/bias:0' shape=(64,) dtype=float32_ref>,\n <tf.Variable 'd_h1_0001_0000/batch_normalization/beta:0' shape=(64,) dtype=float32_ref>,\n <tf.Variable 'd_h1_0001_0000/weight:0' shape=(3, 3, 64, 128) dtype=float32_ref>,\n <tf.Variable 'd_h1_0001_0000/bias:0' shape=(128,) dtype=float32_ref>,\n <tf.Variable 'd_h2_0001_0000/batch_normalization/beta:0' shape=(128,) dtype=float32_ref>,\n <tf.Variable 'd_h2_0001_0000/weight:0' shape=(3, 3, 128, 256) dtype=float32_ref>,\n <tf.Variable 'd_h2_0001_0000/bias:0' shape=(256,) dtype=float32_ref>,\n <tf.Variable 'd_h3_0001_0000/batch_normalization/beta:0' shape=(256,) dtype=float32_ref>,\n <tf.Variable 'd_h3_0001_0000/weight:0' shape=(3, 3, 256, 512) dtype=float32_ref>,\n <tf.Variable 'd_h3_0001_0000/bias:0' shape=(512,) dtype=float32_ref>,\n <tf.Variable 'd_h4_0001_0000/batch_normalization/beta:0' shape=(512,) dtype=float32_ref>,\n <tf.Variable 'd_h4_0001_0000/weight:0' shape=(3, 3, 512, 512) dtype=float32_ref>,\n <tf.Variable 'd_h4_0001_0000/bias:0' shape=(512,) dtype=float32_ref>,\n <tf.Variable 'd_h5_0001_0000/batch_normalization/beta:0' shape=(512,) dtype=float32_ref>,\n <tf.Variable 'd_h5_0001_0000/weight:0' shape=(1, 1, 512, 512) dtype=float32_ref>,\n <tf.Variable 'd_h5_0001_0000/bias:0' shape=(512,) dtype=float32_ref>,\n <tf.Variable 'd_h6_0001_0000/batch_normalization/beta:0' shape=(512,) dtype=float32_ref>,\n <tf.Variable 'd_h6_0001_0000/weight:0' shape=(1, 1, 512, 1) dtype=float32_ref>,\n <tf.Variable 'd_h6_0001_0000/bias:0' shape=(1,) dtype=float32_ref>,\n <tf.Variable 'd_h7_lin_0001_0000/weight:0' shape=(16, 100) dtype=float32_ref>,\n <tf.Variable 'd_h7_lin_0001_0000/bias:0' shape=(100,) dtype=float32_ref>,\n <tf.Variable 'd_h8_lin_0001_0000/weight:0' shape=(100, 2) dtype=float32_ref>,\n <tf.Variable 'd_h8_lin_0001_0000/bias:0' shape=(2,) dtype=float32_ref>,\n <tf.Variable 'd_h0_0001_0001/weight:0' shape=(3, 3, 3, 64) dtype=float32_ref>,\n <tf.Variable 'd_h0_0001_0001/bias:0' shape=(64,) dtype=float32_ref>,\n <tf.Variable 'd_h1_0001_0001/batch_normalization/beta:0' shape=(64,) dtype=float32_ref>,\n <tf.Variable 'd_h1_0001_0001/weight:0' shape=(3, 3, 64, 128) dtype=float32_ref>,\n <tf.Variable 'd_h1_0001_0001/bias:0' shape=(128,) dtype=float32_ref>,\n <tf.Variable 'd_h2_0001_0001/batch_normalization/beta:0' shape=(128,) dtype=float32_ref>,\n <tf.Variable 'd_h2_0001_0001/weight:0' shape=(3, 3, 128, 256) dtype=float32_ref>,\n <tf.Variable 'd_h2_0001_0001/bias:0' shape=(256,) dtype=float32_ref>,\n <tf.Variable 'd_h3_0001_0001/batch_normalization/beta:0' shape=(256,) dtype=float32_ref>,\n <tf.Variable 'd_h3_0001_0001/weight:0' shape=(3, 3, 256, 512) dtype=float32_ref>,\n <tf.Variable 'd_h3_0001_0001/bias:0' shape=(512,) dtype=float32_ref>,\n <tf.Variable 'd_h4_0001_0001/batch_normalization/beta:0' shape=(512,) dtype=float32_ref>,\n <tf.Variable 'd_h4_0001_0001/weight:0' shape=(3, 3, 512, 512) dtype=float32_ref>,\n <tf.Variable 'd_h4_0001_0001/bias:0' shape=(512,) dtype=float32_ref>,\n <tf.Variable 'd_h5_0001_0001/batch_normalization/beta:0' shape=(512,) dtype=float32_ref>,\n <tf.Variable 'd_h5_0001_0001/weight:0' shape=(1, 1, 512, 512) dtype=float32_ref>,\n <tf.Variable 'd_h5_0001_0001/bias:0' shape=(512,) dtype=float32_ref>,\n <tf.Variable 'd_h6_0001_0001/batch_normalization/beta:0' shape=(512,) dtype=float32_ref>,\n <tf.Variable 'd_h6_0001_0001/weight:0' shape=(1, 1, 512, 1) dtype=float32_ref>,\n <tf.Variable 'd_h6_0001_0001/bias:0' shape=(1,) dtype=float32_ref>,\n <tf.Variable 'd_h7_lin_0001_0001/weight:0' shape=(16, 100) dtype=float32_ref>,\n <tf.Variable 'd_h7_lin_0001_0001/bias:0' shape=(100,) dtype=float32_ref>,\n <tf.Variable 'd_h8_lin_0001_0001/weight:0' shape=(100, 2) dtype=float32_ref>,\n <tf.Variable 'd_h8_lin_0001_0001/bias:0' shape=(2,) dtype=float32_ref>]"
      ]
     },
     "execution_count": 9,
     "metadata": {},
     "output_type": "execute_result"
    }
   ],
   "source": [
    "tf.trainable_variables()"
   ]
  },
  {
   "cell_type": "code",
   "execution_count": null,
   "metadata": {},
   "outputs": [],
   "source": [
    ""
   ]
  }
 ],
 "metadata": {
  "kernelspec": {
   "display_name": "Python 2",
   "language": "python",
   "name": "python2"
  },
  "language_info": {
   "codemirror_mode": {
    "name": "ipython",
    "version": 2.0
   },
   "file_extension": ".py",
   "mimetype": "text/x-python",
   "name": "python",
   "nbconvert_exporter": "python",
   "pygments_lexer": "ipython2",
   "version": "2.7.6"
  }
 },
 "nbformat": 4,
 "nbformat_minor": 0
}